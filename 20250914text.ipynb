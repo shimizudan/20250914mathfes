{
  "cells": [
    {
      "cell_type": "markdown",
      "id": "title-cell",
      "metadata": {
        "id": "title-cell"
      },
      "source": [
        "# 高校数学とJulia言語\n",
        "\n",
        "このノートブックでは、Julia言語を使って高校数学の様々な分野を学習します。\n",
        "\n",
        "Juliaを用いて、数学の概念を直感的に表現できます。\n",
        "\n",
        "![自己紹介](https://github.com/shimizudan/20250914mathfes/blob/main/profile.png?raw=1)"
      ]
    },
    {
      "cell_type": "markdown",
      "id": "overview-cell",
      "metadata": {
        "id": "overview-cell"
      },
      "source": [
        "## 1. Julia言語の概要\n",
        "\n",
        "Juliaは統計処理や科学技術計算、機械学習に強いプログラミング言語です。\n",
        "Google Colabで無料で利用できるようになりました。\n",
        "\n",
        "**特徴：**\n",
        "- 高速な数値計算\n",
        "- 数学的記法に近い文法\n",
        "- 豊富な数学・統計ライブラリ\n",
        "\n",
        "公式サイト: https://julialang.org/\n",
        "\n",
        "![Julialang](https://github.com/shimizudan/20250914mathfes/blob/main/julialang.png?raw=1)\n",
        "\n",
        "https://zenn.dev/dannchu/articles/296dce4bf7c701\n",
        "\n",
        "![colab](https://github.com/shimizudan/20250914mathfes/blob/main/googlecolab.png?raw=1)\n",
        "\n",
        "### 📝 Google Colab の基本的な使い方\n",
        "\n",
        "Google Colab（Colaboratory）は、クラウド上で動くJupyterノートブック環境です。PythonやJuliaなどのプログラミング言語を、インストールなしでブラウザ上で実行できます。\n",
        "\n",
        "### 🔸 セルの種類\n",
        "\n",
        "| セルの種類 | 用途 | 入力内容 |\n",
        "|-----------|------|----------|\n",
        "| **コードセル** | プログラムを書く | Julia, Python などのコード |\n",
        "| **テキストセル** | 解説や見出しを書く | Markdown 記法を使った文章や数式 |\n",
        "\n",
        "✅ **セルの追加方法**：上部メニュー → `+ コード` または `+ テキスト`\n",
        "\n",
        "### 🔸 便利なショートカット\n",
        "\n",
        "| 操作 | 方法 |\n",
        "|------|------|\n",
        "| セルを実行 | `Shift + Enter` または ▶️ ボタン |\n",
        "| 新しいセルを追加 | 上部の `+ コード` または `+ テキスト` |\n",
        "| セルを削除 | セル左のメニューからゴミ箱アイコン |\n",
        "| ノートブックを保存 | 自動保存（Googleドライブ）|\n",
        "\n",
        "### 🔸 数式の書き方（LaTeX）\n",
        "\n",
        "テキストセルでは数式を美しく表示できます：\n",
        "\n",
        "```\n",
        "インライン数式：$x^2 + y^2 = r^2$\n",
        "\n",
        "ブロック数式：\n",
        "$$\n",
        "\\int_0^1 x^2 dx = \\frac{1}{3}\n",
        "$$\n",
        "```\n",
        "\n",
        "実際の表示：\n",
        "\n",
        "インライン数式：$x^2 + y^2 = r^2$\n",
        "\n",
        "ブロック数式：\n",
        "$$\n",
        "\\int_0^1 x^2 dx = \\frac{1}{3}\n",
        "$$"
      ]
    },
    {
      "cell_type": "markdown",
      "id": "basic-calc-cell",
      "metadata": {
        "id": "basic-calc-cell"
      },
      "source": [
        "## 2. 基本的な計算\n",
        "\n",
        "まずは四則演算から始めましょう。電卓として使ってみます。"
      ]
    },
    {
      "cell_type": "code",
      "execution_count": null,
      "id": "basic-operations",
      "metadata": {
        "id": "basic-operations"
      },
      "outputs": [],
      "source": [
        "# 四則演算\n",
        "1+1"
      ]
    },
    {
      "cell_type": "code",
      "execution_count": null,
      "id": "power",
      "metadata": {
        "id": "power"
      },
      "outputs": [],
      "source": [
        "2^10"
      ]
    },
    {
      "cell_type": "code",
      "execution_count": null,
      "id": "division",
      "metadata": {
        "id": "division"
      },
      "outputs": [],
      "source": [
        "10 ÷ 3  # ÷は\\divで入力"
      ]
    },
    {
      "cell_type": "markdown",
      "id": "math-constants",
      "metadata": {
        "id": "math-constants"
      },
      "source": [
        "### 数学でよく使う定数と関数"
      ]
    },
    {
      "cell_type": "code",
      "execution_count": null,
      "id": "pi-constant",
      "metadata": {
        "id": "pi-constant"
      },
      "outputs": [],
      "source": [
        "π   #πは\\pi + tab で入力"
      ]
    },
    {
      "cell_type": "code",
      "execution_count": null,
      "id": "sqrt",
      "metadata": {
        "id": "sqrt"
      },
      "outputs": [],
      "source": [
        "√2    # √は\\sqrt +tab で入力"
      ]
    },
    {
      "cell_type": "code",
      "execution_count": null,
      "id": "euler",
      "metadata": {
        "id": "euler"
      },
      "outputs": [],
      "source": [
        "ℯ   # ℯは\\euler + tab で入力"
      ]
    },
    {
      "cell_type": "code",
      "execution_count": null,
      "id": "golden-ratio",
      "metadata": {
        "id": "golden-ratio"
      },
      "outputs": [],
      "source": [
        "# 黄金比\n",
        "ϕ = (1 + √5)/2"
      ]
    },
    {
      "cell_type": "code",
      "execution_count": null,
      "id": "golden-property",
      "metadata": {
        "id": "golden-property"
      },
      "outputs": [],
      "source": [
        "ϕ^2 - ϕ + 1"
      ]
    },
    {
      "cell_type": "code",
      "execution_count": null,
      "id": "variables",
      "metadata": {
        "id": "variables"
      },
      "outputs": [],
      "source": [
        "# 代入・計算\n",
        "\n",
        "x = 1"
      ]
    },
    {
      "cell_type": "code",
      "execution_count": null,
      "id": "variable-y",
      "metadata": {
        "id": "variable-y"
      },
      "outputs": [],
      "source": [
        "y = 4"
      ]
    },
    {
      "cell_type": "code",
      "execution_count": null,
      "id": "expression",
      "metadata": {
        "id": "expression"
      },
      "outputs": [],
      "source": [
        "2x-4y"
      ]
    },
    {
      "cell_type": "code",
      "execution_count": null,
      "id": "fractions-float",
      "metadata": {
        "id": "fractions-float"
      },
      "outputs": [],
      "source": [
        "# 分数計算（小数と有理数の違い）\n",
        "1/3 + 3*2/4     # 小数計算"
      ]
    },
    {
      "cell_type": "code",
      "execution_count": null,
      "id": "fractions-rational",
      "metadata": {
        "id": "fractions-rational"
      },
      "outputs": [],
      "source": [
        "1//3 + 3*2//4   # //で有理数\n"
      ]
    },
    {
      "cell_type": "code",
      "execution_count": null,
      "id": "fraction-simplify",
      "metadata": {
        "id": "fraction-simplify"
      },
      "outputs": [],
      "source": [
        "12//8   # 有理数の約分"
      ]
    },
    {
      "cell_type": "code",
      "execution_count": null,
      "id": "function-def",
      "metadata": {
        "id": "function-def"
      },
      "outputs": [],
      "source": [
        "# 関数の定義\n",
        "f(x) = x^2 + 2x - 4"
      ]
    },
    {
      "cell_type": "code",
      "execution_count": null,
      "id": "function-eval",
      "metadata": {
        "id": "function-eval"
      },
      "outputs": [],
      "source": [
        "@show f(0)\n",
        "@show f(2)\n",
        "@show f(-1)\n",
        "@show f(√2)"
      ]
    },
    {
      "cell_type": "markdown",
      "id": "plotting-section",
      "metadata": {
        "id": "plotting-section"
      },
      "source": [
        "## 3. グラフ描画\n",
        "\n",
        "Julia言語でグラフを描くには、**Plots.jl**というパッケージを使います。"
      ]
    },
    {
      "cell_type": "code",
      "execution_count": null,
      "id": "load-plots",
      "metadata": {
        "id": "load-plots"
      },
      "outputs": [],
      "source": [
        "# パッケージの読み込み\n",
        "# フォント設定（日本語ラベルのため）\n",
        "using Pkg\n",
        "Pkg.add(url=\"https://github.com/ujimushi/PlotsGRBackendFontJaEmoji.jl\")\n",
        "using PlotsGRBackendFontJaEmoji,Plots\n",
        "gr()"
      ]
    },
    {
      "cell_type": "code",
      "execution_count": null,
      "id": "sine-plot",
      "metadata": {
        "id": "sine-plot"
      },
      "outputs": [],
      "source": [
        "plot(sin)\n"
      ]
    },
    {
      "cell_type": "code",
      "execution_count": null,
      "id": "quadratic-plot",
      "metadata": {
        "id": "quadratic-plot"
      },
      "outputs": [],
      "source": [
        "# 2次関数のグラフ\n",
        "f(x) = x^2 + 2x - 4\n",
        "g(x) = abs(f(x))\n",
        "\n",
        "plot(f, lw=2,color=:blue)\n",
        "plot!(g, lw=2,ls=:dash, color=:red)\n"
      ]
    },
    {
      "cell_type": "code",
      "execution_count": null,
      "id": "parametric-plot",
      "metadata": {
        "id": "parametric-plot"
      },
      "outputs": [],
      "source": [
        "# 媒介変数表示（リサージュ曲線）\n",
        "t = 0:0.01:2π\n",
        "xs = sin.(3t)\n",
        "ys = sin.(2t)\n",
        "\n",
        "plot(xs, ys, aspectratio=true,lw=2,title=\"x=sin3t,y=sin2t\")"
      ]
    },
    {
      "cell_type": "code",
      "execution_count": null,
      "id": "surface-plot",
      "metadata": {
        "id": "surface-plot"
      },
      "outputs": [],
      "source": [
        "# 3D曲面\n",
        "x = -π:0.2:π\n",
        "y = -π:0.2:π\n",
        "z = [sin(xi + yi) for xi in x, yi in y]\n",
        "\n",
        "surface(x, y, z, title=\"z = sin(x + y)\")"
      ]
    },
    {
      "cell_type": "markdown",
      "id": "equations-section",
      "metadata": {
        "id": "equations-section"
      },
      "source": [
        "## 4. 方程式の解法"
      ]
    },
    {
      "cell_type": "code",
      "execution_count": null,
      "id": "symbolic-solving",
      "metadata": {
        "id": "symbolic-solving"
      },
      "outputs": [],
      "source": [
        "# 記号的解法\n",
        "# using Pkg\n",
        "# Pkg.add(\"Nemo\")\n",
        "# Pkg.add(\"Symbolics\")\n",
        "\n",
        "using Nemo , Symbolics\n",
        "\n",
        "@variables x\n",
        "f(x) = x^2 + 2x - 4\n",
        "\n",
        "println(\"x² + 2x - 4 = 0 の解:\")\n",
        "symbolic_solve(f(x),x)\n"
      ]
    },
    {
      "cell_type": "code",
      "execution_count": null,
      "id": "general-formula",
      "metadata": {
        "id": "general-formula"
      },
      "outputs": [],
      "source": [
        "# 解の公式の一般形\n",
        "\n",
        "@variables a b c x\n",
        "println(\"ax² + bx + c = 0 の解:\")\n",
        "symbolic_solve(a*x^2 + b*x + c, x)"
      ]
    },
    {
      "cell_type": "code",
      "execution_count": null,
      "id": "numerical-solving",
      "metadata": {
        "id": "numerical-solving"
      },
      "outputs": [],
      "source": [
        "# 数値的解法\n",
        "# using Pkg\n",
        "# Pkg.add(\"SimplePolynomials\")\n",
        "\n",
        "using SimplePolynomials\n",
        "\n",
        "x = getx()\n",
        "println(\"x⁵ - 1 = 0 の解（5次単位根）:\")\n",
        "Z = SimplePolynomials.roots(x^5 - 1)"
      ]
    },
    {
      "cell_type": "code",
      "execution_count": null,
      "id": "complex-plane",
      "metadata": {
        "id": "complex-plane"
      },
      "outputs": [],
      "source": [
        "#複素数平面上に図示\n",
        "\n",
        "using Plots\n",
        "scatter(Z,\n",
        "          xlim=(-1.5,1.5),\n",
        "          ylim=(-1.5,1.5),\n",
        "          aspectratio=true)"
      ]
    },
    {
      "cell_type": "markdown",
      "id": "sequences-section",
      "metadata": {
        "id": "sequences-section"
      },
      "source": [
        "## 5. 漸化式と数列"
      ]
    },
    {
      "cell_type": "code",
      "execution_count": null,
      "id": "recurrence",
      "metadata": {
        "id": "recurrence"
      },
      "outputs": [],
      "source": [
        "# 漸化式 a₁ = 3, aₙ₊₁ = 2aₙ + 1\n",
        "function seq_a(n::Int)\n",
        "    if n == 1\n",
        "        3\n",
        "    elseif n ≥ 2\n",
        "        2 * seq_a(n - 1) + 1\n",
        "    end\n",
        "end\n",
        "\n",
        "# 最初の10項を表示\n",
        "println(\"数列の最初の10項:\")\n",
        "for i in 1:10\n",
        "    println(\"a($i) = \", seq_a(i))\n",
        "end"
      ]
    },
    {
      "cell_type": "code",
      "execution_count": null,
      "id": "sequence-plot",
      "metadata": {
        "id": "sequence-plot"
      },
      "outputs": [],
      "source": [
        "# 数列のグラフ化\n",
        "using Plots\n",
        "X = 1:10\n",
        "Y = seq_a.(X)\n",
        "\n",
        "plot(X, Y, label=\"aₙ\", lw=2)\n",
        "scatter!(X, Y, label=\"\", markersize=5)"
      ]
    },
    {
      "cell_type": "markdown",
      "id": "optimization-section",
      "metadata": {
        "id": "optimization-section"
      },
      "source": [
        "## 6. 最適化問題\n",
        "\n",
        "### 線形計画問題\n",
        "\n",
        "- $3x+4y \\leqq 10$，$4x+y \\leqq 4$，$x \\geqq 0$，$y \\geqq 0$ のとき，$x+y$の最大値・最小値は？"
      ]
    },
    {
      "cell_type": "code",
      "execution_count": null,
      "id": "linear-programming",
      "metadata": {
        "id": "linear-programming"
      },
      "outputs": [],
      "source": [
        "using Plots\n",
        "#陰関数表示\n",
        "contour(0:0.01:4,0:0.01:4,(x,y)->3x+4y-10,levels=[0])\n",
        "contour!(0:0.01:4,0:0.01:4,(x,y)->4x+y-4,levels=[0])"
      ]
    },
    {
      "cell_type": "code",
      "execution_count": null,
      "id": "feasible-region",
      "metadata": {
        "id": "feasible-region"
      },
      "outputs": [],
      "source": [
        "function f(x,y)\n",
        "    if 3x+4y ≤ 10 && 4x+y ≤ 4 && x ≥ 0 && y ≥ 0\n",
        "        1\n",
        "    else 0\n",
        "    end\n",
        "end\n",
        "\n",
        "contour(-1:0.01:4,-1:0.01:4,f)"
      ]
    },
    {
      "cell_type": "code",
      "execution_count": null,
      "id": "optimization-search",
      "metadata": {
        "id": "optimization-search"
      },
      "outputs": [],
      "source": [
        "function optimize_z()\n",
        "    z_vals = Float64[]\n",
        "    for x = 0:0.001:1 , y = 0:0.001:4\n",
        "        if f(x,y) == 1\n",
        "          xs , ys = x , y\n",
        "          zs = xs + ys\n",
        "          push!(z_vals, zs)\n",
        "        end\n",
        "    end\n",
        "    return minimum(z_vals), maximum(z_vals)\n",
        "end\n",
        "\n",
        "t = optimize_z()\n",
        "println(\"最小値は$(t[1])，最大値は$(t[2])\")"
      ]
    },
    {
      "cell_type": "markdown",
      "id": "nonlinear-opt",
      "metadata": {
        "id": "nonlinear-opt"
      },
      "source": [
        "### 非線形最適化問題\n",
        "\n",
        "- $a$，$b$を正の実数とする。$\\displaystyle{a^3+b^3-2ab}$の最小値を求めよ。"
      ]
    },
    {
      "cell_type": "code",
      "execution_count": null,
      "id": "nonlinear-optim",
      "metadata": {
        "id": "nonlinear-optim"
      },
      "outputs": [],
      "source": [
        "# using Pkg\n",
        "# Pkg.add(\"Optim\")\n",
        "\n",
        "using Optim\n",
        "\n",
        "# 目的関数（2変数関数を想定。xはベクトル）\n",
        "f(x) = x[1]^3+x[2]^3-2*x[1]*x[2]\n",
        "\n",
        "# 初期値（適当でOK）\n",
        "x0 = [0.2, 0.2]\n",
        "\n",
        "# 制約条件: a > 0, b > 0\n",
        "lower = [1e-6, 1e-6]  # 0に近い正の値\n",
        "upper = [1.0, 1.0]  # 適当な大きい値（必要なら調整）\n",
        "\n",
        "# 最適化\n",
        "result = optimize(f, lower, upper, x0)\n",
        "\n",
        "# 最適解\n",
        "x_opt = Optim.minimizer(result)\n",
        "\n",
        "# 最小値\n",
        "min_f = Optim.minimum(result)\n",
        "\n",
        "println(\"最適な (a, b) = \", x_opt)\n",
        "println(\"最小値 f(a, b) = \", min_f)"
      ]
    },
    {
      "cell_type": "code",
      "execution_count": null,
      "id": "optim-surface",
      "metadata": {
        "id": "optim-surface"
      },
      "outputs": [],
      "source": [
        "using Plots\n",
        "#plotlyjs()\n",
        "\n",
        "# 関数の3Dプロット\n",
        "x_range = -0.5:0.1:2.5\n",
        "y_range = -0.5:0.1:2.5\n",
        "z_vals = [xi^3 + yi^3 - 2*xi*yi for xi in x_range, yi in y_range]\n",
        "\n",
        "surface(x_range, y_range, z_vals,\n",
        "        title=\"f(a, b) = a³ + b³ - 2ab\",\n",
        "        xlabel=\"a\",\n",
        "        ylabel=\"b\",\n",
        "        zlabel=\"f(a, b)\")\n",
        "\n",
        "# 最適解をプロット上に表示\n",
        "scatter3d!([x_opt[1]], [x_opt[2]], [min_f],\n",
        "           color=:red,\n",
        "           markersize=2)"
      ]
    },
    {
      "cell_type": "markdown",
      "id": "statistics-section",
      "metadata": {
        "id": "statistics-section"
      },
      "source": [
        "## 7. 統計・分布\n",
        "\n",
        "ある高校の生徒150名を無作為に選んで調査したところ、スマートフォンを所有している生徒は126名でした。\n",
        "\n",
        "この高校の生徒全体におけるスマートフォン所有率（母比率 p）について、信頼度95%の信頼区間を求めなさい。\n",
        "\n",
        "#### 与えられた情報\n",
        "- 標本サイズ：n = 150名\n",
        "- スマートフォン所有者数：x = 126名\n",
        "- 標本比率：p̂ = 126/150 = 0.84\n",
        "- 信頼度：95%（有意水準 α = 0.05）\n",
        "\n",
        "#### 理論\n",
        "標本比率 p̂ は近似的に正規分布 N(p, p(1-p)/n) に従います。\n",
        "信頼区間は p̂ ± z_{α/2} × √(p̂(1-p̂)/n) で計算されます。"
      ]
    },
    {
      "cell_type": "code",
      "execution_count": null,
      "id": "confidence-interval",
      "metadata": {
        "id": "confidence-interval"
      },
      "outputs": [],
      "source": [
        "# 母比率の信頼区間（Wald法）\n",
        "# using Pkg\n",
        "# Pkg.add(\"Distributions\")\n",
        "\n",
        "using Distributions #分布パッケージ\n",
        "\n",
        "# 与えられた値\n",
        "n = 150\n",
        "x = 126\n",
        "p̂ = x / n\n",
        "α = 0.05\n",
        "\n",
        "# 標準誤差\n",
        "se = sqrt(p̂ * (1 - p̂) / n)\n",
        "\n",
        "# z値（95%信頼区間）\n",
        "z = cquantile(Normal(), α/2) #z値\n",
        "\n",
        "# 信頼区間計算\n",
        "lower = p̂ - z * se\n",
        "upper = p̂ + z * se\n",
        "\n",
        "println(\"母比率 p の95%信頼区間: ($(round(lower, digits=4)), $(round(upper, digits=4)))\")"
      ]
    },
    {
      "cell_type": "code",
      "execution_count": null,
      "id": "pvalue-function",
      "metadata": {
        "id": "pvalue-function"
      },
      "outputs": [],
      "source": [
        "using Distributions #分布パッケージ\n",
        "# P値関数（Wald）\n",
        "function pvalue_f_wald(k, p, n)\n",
        "    p̂ = k/n\n",
        "    2ccdf(Normal(),abs(p̂ - p)/√(p̂ *(1-p̂)/n))\n",
        "end\n",
        "\n",
        "\n",
        "#Waldの信頼区間\n",
        "function confint_bin_wald(k; n, α=0.05)\n",
        "    p̂ = k/n\n",
        "    z = cquantile(Normal(), α/2) # z値\n",
        "    se = sqrt(p̂ * (1 - p̂) / n) # 標準誤差\n",
        "    p̂ - z * se ,  p̂ + z * se\n",
        "end\n",
        "\n",
        "k , n  = 126 , 150\n",
        "α = 0.05\n",
        "\n",
        "# using Pkg\n",
        "# Pkg.add(\"StatsPlots\")\n",
        "\n",
        "using StatsPlots\n",
        "plot(p->pvalue_f_wald(k,p,n),label=\"pvalue_f_wald\",xlim=(0.6,1))\n",
        "plot!(x->α,label=\"α=0.05\")\n",
        "@show p_L, p_U = confint_bin_wald(k; n,α)\n",
        "plot!([p_L, p_U], fill(0.05, 2); lw=3, c=:red, label=\"wald\")"
      ]
    },
    {
      "cell_type": "code",
      "execution_count": null,
      "id": "distributions-plot",
      "metadata": {
        "id": "distributions-plot"
      },
      "outputs": [],
      "source": [
        "# 正規分布と二項分布の可視化\n",
        "using StatsPlots\n",
        "# plotlyjs()\n",
        "# 正規分布\n",
        "p1 = plot(Normal(0, 1),\n",
        "         xlim=(-4, 4),\n",
        "         title=\"Normal(0,1)\",\n",
        "         lw=2,\n",
        "         fill=true,\n",
        "         alpha=0.3,label=false)\n",
        "\n",
        "# 二項分布\n",
        "n_binom = 100\n",
        "p_binom = 1/3\n",
        "binom_dist = Binomial(n_binom, p_binom)\n",
        "\n",
        "p2 = plot(binom_dist,\n",
        "         title=\" Binomial($n_binom, $(round(p_binom, digits=2)))\",\n",
        "         lw=2,\n",
        "         fill=true,\n",
        "         alpha=0.3,label=false)\n",
        "\n",
        "\n",
        "plot(p1, p2, layout=(1, 2), size=(800, 300))"
      ]
    },
    {
      "cell_type": "markdown",
      "id": "integration-section",
      "metadata": {
        "id": "integration-section"
      },
      "source": [
        "## 8. 数値積分"
      ]
    },
    {
      "cell_type": "code",
      "execution_count": null,
      "id": "monte-carlo-integration",
      "metadata": {
        "id": "monte-carlo-integration"
      },
      "outputs": [],
      "source": [
        "# ∫₀¹ sin(x²) dx をモンテカルロ法で計算（フレネル積分）\n",
        "# using Pkg\n",
        "# Pkg.add(\"Distributions\")\n",
        "\n",
        "using Distributions\n",
        "\n",
        "function montecarlo(f, a, b, n)\n",
        "    sum(f(rand(Uniform(a, b))) for _ = 1:n) / n * (b - a)\n",
        "end\n",
        "\n",
        "f(x) = sin(x^2)\n",
        "result = montecarlo(f, 0, sqrt(π), 10^6)\n",
        "\n",
        "println(\"∫_0^√π sin(x²) dx ≈ \", result)\n",
        "\n",
        "# using Pkg\n",
        "# Pkg.add(\"QuadGK\")\n",
        "\n",
        "using QuadGK\n",
        "\n",
        "result2 = quadgk(f,0,sqrt(π))\n",
        "println(\"理論値（フレネル積分）≈ $(result2[1])\")"
      ]
    },
    {
      "cell_type": "code",
      "execution_count": null,
      "id": "fresnel-plot",
      "metadata": {
        "id": "fresnel-plot"
      },
      "outputs": [],
      "source": [
        "# 被積分関数の可視化\n",
        "\n",
        "plot(f, 0, sqrt(π), fill=(0, 0.3, :red), label=\"∫₀¹ sin(x²) dx\", lw=2)\n",
        "plot!(x -> sin(x^2), 0, sqrt(π), label=\"y = sin(x²)\", lw=2, color=:blue)\n",
        "title!(\"Fresnel integrals\")"
      ]
    },
    {
      "cell_type": "markdown",
      "id": "combinatorics-section",
      "metadata": {
        "id": "combinatorics-section"
      },
      "source": [
        "## 9. 整数問題・場合の数・確率\n",
        "\n",
        "### 整数の性質を調べる\n",
        "\n",
        "ある整数を3で割ると1余り、5で割ると2余る3桁の数を全て求めてみましょう。"
      ]
    },
    {
      "cell_type": "code",
      "execution_count": null,
      "id": "modular-arithmetic",
      "metadata": {
        "id": "modular-arithmetic"
      },
      "outputs": [],
      "source": [
        "# ある整数を3で割ると1余り、5で割ると2余る3桁の数\n",
        "\n",
        "[n for n = 100:999 if mod(n,3)==1 && mod(n,5)==2]"
      ]
    },
    {
      "cell_type": "markdown",
      "id": "combinatorics",
      "metadata": {
        "id": "combinatorics"
      },
      "source": [
        "### 場合の数\n",
        "\n",
        "1から9までの数字から3つ選んで3桁の整数を作る問題を考えてみましょう。"
      ]
    },
    {
      "cell_type": "code",
      "execution_count": null,
      "id": "permutations",
      "metadata": {
        "id": "permutations"
      },
      "outputs": [],
      "source": [
        "# 1から9までの数字から3つ選んで3桁の整数を作る\n",
        "using Combinatorics\n",
        "\n",
        "X = [i for i in 1:9]\n",
        "Y = permutations(X, 3) |> collect\n",
        "\n",
        "println(\"(1) 全部で \", length(Y), \" 通り\")\n",
        "\n",
        "# 奇数の個数\n",
        "odd_count = sum(1 for y in Y if y[3] % 2 == 1)\n",
        "println(\"(2) 奇数は \", odd_count, \" 個\")"
      ]
    },
    {
      "cell_type": "markdown",
      "id": "probability-simulation",
      "metadata": {
        "id": "probability-simulation"
      },
      "source": [
        "### 確率のシミュレーション\n",
        "\n",
        "赤玉3個、白玉5個が入った袋から2個の玉を取り出す確率問題を考えてみましょう。"
      ]
    },
    {
      "cell_type": "code",
      "execution_count": null,
      "id": "ball-probability",
      "metadata": {
        "id": "ball-probability"
      },
      "outputs": [],
      "source": [
        "# 確率のシミュレーション：赤玉3個、白玉5個から2個取り出す\n",
        "P = \"🔴 🔴 🔴 ⚪ ⚪ ⚪ ⚪ ⚪\"\n",
        "Q = combinations(split(P, \" \"), 2) |> collect\n",
        "\n",
        "# (1) 2個とも赤玉の確率（理論値）\n",
        "prob_2red = sum(1 for q in Q if q[1] == \"🔴\" && q[2] == \"🔴\") // length(Q)\n",
        "println(\"2個とも赤玉の確率（理論値）: \", prob_2red)\n",
        "\n",
        "# (2) 1個赤玉、1個白玉の確率（理論値）\n",
        "prob_1red1white = sum(1 for q in Q if q[1] != q[2]) // length(Q)\n",
        "println(\"1個赤玉、1個白玉の確率（理論値）: \", prob_1red1white)"
      ]
    },
    {
      "cell_type": "code",
      "execution_count": null,
      "id": "monte-carlo-simulation",
      "metadata": {
        "id": "monte-carlo-simulation"
      },
      "outputs": [],
      "source": [
        "# モンテカルロシミュレーション\n",
        "n = 10^6\n",
        "k = 0\n",
        "\n",
        "for i = 1:n\n",
        "    q = rand(Q)\n",
        "    k += (q == [\"🔴\", \"🔴\"])\n",
        "end\n",
        "\n",
        "println(\"\\n10^6回の実験による2個とも赤玉の確率: \", k/n)\n",
        "println(\"理論値: \", float(prob_2red))"
      ]
    },
    {
      "cell_type": "markdown",
      "id": "coin-dice-section",
      "metadata": {
        "id": "coin-dice-section"
      },
      "source": [
        "### コイン投げとサイコロのシミュレーション\n",
        "\n",
        "基本的な確率現象をシミュレーションで確かめてみましょう。"
      ]
    },
    {
      "cell_type": "code",
      "execution_count": null,
      "id": "coin-simulation",
      "metadata": {
        "id": "coin-simulation"
      },
      "outputs": [],
      "source": [
        "# コイン投げの関数を定義\n",
        "function coin_flip()\n",
        "    return rand() < 0.5 ? \"表\" : \"裏\"\n",
        "end\n",
        "\n",
        "# 大量のコイン投げをシミュレーション\n",
        "function simulate_coin_flips(n)\n",
        "    heads_count = 0\n",
        "    for i in 1:n\n",
        "        if rand() < 0.5\n",
        "            heads_count += 1\n",
        "        end\n",
        "    end\n",
        "    return heads_count / n\n",
        "end\n",
        "\n",
        "# 異なる回数でシミュレーション\n",
        "trials = [10, 100, 1000, 10000, 100000]\n",
        "results = []\n",
        "\n",
        "println(\"コイン投げシミュレーション結果：\")\n",
        "for n in trials\n",
        "    prob = simulate_coin_flips(n)\n",
        "    push!(results, prob)\n",
        "    println(\"$(n)回投げて表が出る確率: $(round(prob, digits=4))\")\n",
        "end\n",
        "\n",
        "println(\"理論値: 0.5\")"
      ]
    },
    {
      "cell_type": "code",
      "execution_count": null,
      "id": "dice-simulation",
      "metadata": {
        "id": "dice-simulation"
      },
      "outputs": [],
      "source": [
        "# サイコロを振る関数\n",
        "function roll_dice()\n",
        "    return rand(1:6)\n",
        "end\n",
        "\n",
        "# 大量にサイコロを振る\n",
        "n_rolls = 6000\n",
        "dice_results = [roll_dice() for _ in 1:n_rolls]\n",
        "\n",
        "# 各目の出現回数を数える\n",
        "counts = [sum(dice_results .== i) for i in 1:6]\n",
        "probabilities = counts ./ n_rolls\n",
        "\n",
        "println(\"サイコロシミュレーション結果 ($(n_rolls)回)：\")\n",
        "for i in 1:6\n",
        "    println(\"$(i)の目: $(counts[i])回 (確率: $(round(probabilities[i], digits=3)))\")\n",
        "end\n",
        "println(\"理論値: 各目 1/6 ≈ 0.167\")"
      ]
    },
    {
      "cell_type": "code",
      "execution_count": null,
      "id": "dice-histogram",
      "metadata": {
        "id": "dice-histogram"
      },
      "outputs": [],
      "source": [
        "# サイコロの結果をヒストグラムで表示\n",
        "histogram(dice_results, bins=0.5:1:6.5,\n",
        "         title=\"サイコロの目の分布 ($(n_rolls)回)\",\n",
        "         xlabel=\"サイコロの目\",\n",
        "         ylabel=\"出現回数\",\n",
        "         color=:orange,\n",
        "         alpha=0.7,\n",
        "         label=\"シミュレーション結果\")\n",
        "\n",
        "# 理論値の線を追加\n",
        "hline!([n_rolls/6], color=:red, linewidth=3, linestyle=:dash, label=\"理論値 ($(round(n_rolls/6)))\")"
      ]
    },
    {
      "cell_type": "markdown",
      "id": "birthday-paradox-section",
      "metadata": {
        "id": "birthday-paradox-section"
      },
      "source": [
        "### 誕生日のパラドックス\n",
        "\n",
        "「30人のクラスで、同じ誕生日の人が2人以上いる確率は？」\n",
        "直感では低そうですが、実際は驚くべき結果になります。"
      ]
    },
    {
      "cell_type": "code",
      "execution_count": null,
      "id": "birthday-paradox",
      "metadata": {
        "id": "birthday-paradox"
      },
      "outputs": [],
      "source": [
        "# 誕生日の重複をチェックする関数\n",
        "function has_birthday_collision(n_people)\n",
        "    birthdays = rand(1:365, n_people)  # 1-365の誕生日をランダムに生成\n",
        "    return length(unique(birthdays)) < n_people  # 重複があればtrue\n",
        "end\n",
        "\n",
        "# 異なる人数での誕生日パラドックスをシミュレーション\n",
        "function birthday_paradox_simulation(n_people, n_trials=10000)\n",
        "    collisions = 0\n",
        "    for _ in 1:n_trials\n",
        "        if has_birthday_collision(n_people)\n",
        "            collisions += 1\n",
        "        end\n",
        "    end\n",
        "    return collisions / n_trials\n",
        "end\n",
        "\n",
        "# 様々な人数で実験\n",
        "people_counts = [10, 15, 20, 23, 25, 30, 35, 40, 50]\n",
        "probabilities = []\n",
        "\n",
        "println(\"誕生日パラドックスのシミュレーション結果：\")\n",
        "for n in people_counts\n",
        "    prob = birthday_paradox_simulation(n)\n",
        "    push!(probabilities, prob)\n",
        "    println(\"$(n)人: $(round(prob, digits=3))\")\n",
        "end"
      ]
    },
    {
      "cell_type": "code",
      "execution_count": null,
      "id": "birthday-theory",
      "metadata": {
        "id": "birthday-theory"
      },
      "outputs": [],
      "source": [
        "# 理論値の計算\n",
        "function birthday_theory(n)\n",
        "    if n > 365\n",
        "        return 1.0\n",
        "    end\n",
        "\n",
        "    prob_no_collision = 1.0\n",
        "    for i in 0:(n-1)\n",
        "        prob_no_collision *= (365 - i) / 365\n",
        "    end\n",
        "\n",
        "    return 1 - prob_no_collision\n",
        "end\n",
        "\n",
        "# 理論値を計算\n",
        "theoretical_probs = [birthday_theory(n) for n in people_counts]\n",
        "\n",
        "# 誕生日パラドックスの可視化\n",
        "plot(people_counts, probabilities,\n",
        "     marker=:circle, markersize=6, linewidth=2, color=:blue,\n",
        "     title=\"誕生日パラドックス\",\n",
        "     xlabel=\"クラスの人数\",\n",
        "     ylabel=\"同じ誕生日の人がいる確率\",\n",
        "     label=\"シミュレーション結果\")\n",
        "\n",
        "plot!(people_counts, theoretical_probs,\n",
        "      linewidth=3, color=:red, linestyle=:dash,\n",
        "      label=\"理論値\")\n",
        "\n",
        "# 50%ラインを追加\n",
        "hline!([0.5], color=:gray, linestyle=:dot, alpha=0.7, label=\"50%ライン\")\n",
        "\n",
        "# 23人のポイントを強調\n",
        "scatter!([23], [birthday_theory(23)],\n",
        "         markersize=10, color=:orange,\n",
        "         label=\"23人 ($(round(birthday_theory(23)*100, digits=1))%)\")"
      ]
    },
    {
      "cell_type": "markdown",
      "id": "pi-estimation",
      "metadata": {
        "id": "pi-estimation"
      },
      "source": [
        "### モンテカルロ法による円周率の計算\n",
        "\n",
        "ランダムな点を使って円周率πを求めてみましょう。"
      ]
    },
    {
      "cell_type": "code",
      "execution_count": null,
      "id": "monte-carlo-pi",
      "metadata": {
        "id": "monte-carlo-pi"
      },
      "outputs": [],
      "source": [
        "# モンテカルロ法でπを計算\n",
        "function estimate_pi(n_points)\n",
        "    inside_circle = 0\n",
        "\n",
        "    for _ in 1:n_points\n",
        "        x = rand() * 2 - 1  # -1から1の範囲\n",
        "        y = rand() * 2 - 1  # -1から1の範囲\n",
        "\n",
        "        # 原点からの距離が1以下なら円の内部\n",
        "        if x^2 + y^2 <= 1\n",
        "            inside_circle += 1\n",
        "        end\n",
        "    end\n",
        "\n",
        "    # π ≈ 4 × (円内の点の数) / (全体の点の数)\n",
        "    return 4 * inside_circle / n_points\n",
        "end\n",
        "\n",
        "# 異なる点数でπを推定\n",
        "point_counts = [100, 1000, 10000, 100000, 1000000]\n",
        "pi_estimates = []\n",
        "\n",
        "println(\"モンテカルロ法による円周率の推定：\")\n",
        "for n in point_counts\n",
        "    pi_est = estimate_pi(n)\n",
        "    push!(pi_estimates, pi_est)\n",
        "    error = abs(pi_est - π)\n",
        "    println(\"$(n)点: π ≈ $(round(pi_est, digits=4)), 誤差: $(round(error, digits=4))\")\n",
        "end\n",
        "\n",
        "println(\"真の値: π = $(round(π, digits=6))\")"
      ]
    },
    {
      "cell_type": "code",
      "execution_count": null,
      "id": "pi-convergence",
      "metadata": {
        "id": "pi-convergence"
      },
      "outputs": [],
      "source": [
        "# πの推定値の収束を可視化\n",
        "plot(point_counts, pi_estimates,\n",
        "     marker=:circle, markersize=6, linewidth=2, color=:green,\n",
        "     title=\"モンテカルロ法によるπの収束\",\n",
        "     xlabel=\"使用した点の数\",\n",
        "     ylabel=\"πの推定値\",\n",
        "     xscale=:log10,\n",
        "     label=\"推定値\")\n",
        "\n",
        "# 真のπの値を追加\n",
        "hline!([π], color=:red, linewidth=3, linestyle=:dash, label=\"真の値 π\")\n",
        "\n",
        "# 信頼区間を追加（参考）\n",
        "hline!([π-0.1, π+0.1], color=:gray, alpha=0.5, label=\"±0.1の範囲\")"
      ]
    },
    {
      "cell_type": "markdown",
      "id": "summary",
      "metadata": {
        "id": "summary"
      },
      "source": [
        "## 10. まとめ\n",
        "\n",
        "このノートブックでは、Julia言語を使って高校数学の様々な分野を学習しました：\n",
        "\n",
        "### 学習した内容\n",
        "\n",
        "1. **Julia言語の概要**: Google Colabでの使い方、基本的な特徴\n",
        "2. **基本計算**: 四則演算、関数定義、数学定数\n",
        "3. **グラフ描画**: 2D・3D関数、媒介変数表示、リサージュ曲線\n",
        "4. **方程式の解法**: 記号的解法（解の公式）と数値的解法\n",
        "5. **数列と漸化式**: 再帰的定義、一般項の推定、グラフ化\n",
        "6. **最適化問題**: 線形計画法、非線形最適化\n",
        "7. **統計・分布**: 信頼区間、分布の可視化\n",
        "8. **数値積分**: モンテカルロ積分、図形の可視化\n",
        "9. **整数問題・場合の数・確率**: 具体的な例題とシミュレーション\n",
        "10. **まとめ**: 総合的な振り返り\n",
        "\n",
        "### Julia言語の特徴\n",
        "- **数学的記法**: √、π、÷などの記号が直接使用可能\n",
        "- **高速な数値計算**: 科学技術計算に最適化された言語\n",
        "- **豊富なライブラリ**: グラフ描画、統計、最適化などの専門パッケージ\n",
        "- **インタラクティブ性**: ノートブック環境での試行錯誤が容易\n",
        "\n",
        "### 教育的効果\n",
        "- **理論と実践の融合**: 数学の概念を可視化・実験できる\n",
        "- **問題解決能力**: 複雑な計算を分解して段階的に解決\n",
        "- **データ分析スキル**: 統計的思考と計算技術の習得\n",
        "- **プログラミング思考**: 論理的・構造的な思考力の向上\n",
        "\n",
        "### 発展的学習への道筋\n",
        "1. **大学数学への準備**: 線形代数、微積分学、統計学\n",
        "2. **データサイエンス**: 機械学習、データ可視化\n",
        "3. **科学計算**: 物理シミュレーション、数値解析\n",
        "4. **プログラミング**: アルゴリズム設計、ソフトウェア開発\n",
        "\n",
        "Julia言語を使うことで、数学の抽象的な概念を具体的に可視化し、実験的に理解を深めることができます。\n",
        "\n",
        "理論と実践を結びつけることで、より深い数学的洞察が得られるでしょう。"
      ]
    },
    {
      "cell_type": "markdown",
      "id": "references",
      "metadata": {
        "id": "references"
      },
      "source": [
        "## 参考資料\n",
        "\n",
        "### その他のサイト\n",
        "\n",
        "- [Julia言語と高校数学（2025 夏期講習会）](https://shimizudan.github.io/julia-summer-course/)\n",
        "- [大学入試とJulia言語（JuliaTokai #21）](https://github.com/shimizudan/20250327tokyo-u?tab=readme-ov-file)\n",
        "- [オンライン整数列大辞典(OEIS)に数列を登録してみた！](https://github.com/shimizudan/20250216sundaymath?tab=readme-ov-file)\n",
        "\n",
        "### 参考サイト\n",
        "\n",
        "- [Julia言語 ドキュメント（日本語翻訳版）](https://atelierarith.github.io/UnofficialJuliaDocJP/index.html) - ごまふあざらし(GomahuAzarashi)\n",
        "- [数学と物理におけるJuliaの活用](https://akio-tomiya.github.io/julia_imi_workshop2023/)\n",
        "- [数学ソフトウェアとフリードキュメント XXVIII での講演資料](https://github.com/genkuroki/msfd28/blob/master/README.md) - 黒木玄\n",
        "- [中心極限定理の視覚化の例](https://colab.research.google.com/drive/1OKlTBuxXw_gA6oyzlk5ACInH2PaebdjC?usp=sharing) - 黒木玄\n",
        "- [数値計算法基礎 (2023)](http://www.cas.cmc.osaka-u.ac.jp/~paoon/Lectures/2023-8Semester-NA-basic/01-guide-of-julia/) - 降籏大介\n",
        "- [Juliaで学ぶ最適化と機械学習（2024）](https://matsui528.github.io/julia_opt_ml_2024/) - 松井勇佑\n",
        "\n",
        "### 書籍\n",
        "\n",
        "- [実践Julia入門](https://www.amazon.co.jp/実践Julia入門-後藤-俊介/dp/4297133504) - 後藤俊介\n",
        "- [Juliaではじめる数値計算入門](https://www.amazon.co.jp/Julia%E3%81%A7%E3%81%AF%E3%81%98%E3%82%81%E3%82%8B%E6%95%B0%E5%80%A4%E8%A8%88%E7%AE%97%E5%85%A5%E9%96%80-%E6%B0%B8%E4%BA%95-%E4%BD%91%E7%B4%80/dp/4297141280) - 永井佑紀\n",
        "- [スタンフォード ベクトル・行列からはじめる最適化数学](https://www.amazon.co.jp/スタンフォード-ベクトル・行列からはじめる最適化数学-ＫＳ情報科学専門書-ステファン・ボイド-ebook/dp/B0967Y28B6) - スティーブン・ボイド他\n",
        "\n",
        "### 学習のヒント\n",
        "\n",
        "1. **環境構築**: Google ColabやJupyter Notebookを使用すると簡単に始められます\n",
        "2. **パッケージ管理**: 必要なパッケージは `Pkg.add()` で簡単にインストール可能\n",
        "3. **エラーへの対処**: エラーメッセージを読んで、一つずつ問題を解決していきましょう\n",
        "4. **実験的学習**: 数値を変更して結果の変化を観察することで理解が深まります\n",
        "5. **可視化の活用**: グラフで結果を確認することで直感的理解が得られます\n",
        "\n",
        "### コミュニティ\n",
        "\n",
        "- [Julia言語 公式フォーラム](https://discourse.julialang.org/)\n",
        "- [Julia Tokyo（日本のコミュニティ）](https://juliatokyo.connpass.com/)\n",
        "- [GitHub Julia Organization](https://github.com/JuliaLang)\n",
        "\n",
        "このノートブックを参考に、ぜひJulia言語を使った数学的探究を楽しんでください！"
      ]
    },
    {
      "cell_type": "markdown",
      "id": "50f070be",
      "metadata": {
        "id": "50f070be"
      },
      "source": []
    }
  ],
  "metadata": {
    "kernelspec": {
      "display_name": "Julia",
      "name": "julia"
    },
    "language_info": {
      "name": "julia"
    },
    "colab": {
      "provenance": []
    }
  },
  "nbformat": 4,
  "nbformat_minor": 5
}