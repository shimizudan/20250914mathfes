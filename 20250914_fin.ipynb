{
  "cells": [
    {
      "cell_type": "markdown",
      "id": "title-cell",
      "metadata": {
        "id": "title-cell"
      },
      "source": [
        "# 高校数学とJulia言語\n",
        "\n",
        "![自己紹介](https://github.com/shimizudan/20250914mathfes/blob/main/profile.png?raw=1)"
      ]
    },
    {
      "cell_type": "markdown",
      "source": [
        "## 1. Julia言語とGoogle Colab"
      ],
      "metadata": {
        "id": "5PPkSpJR0APu"
      },
      "id": "5PPkSpJR0APu"
    },
    {
      "cell_type": "markdown",
      "id": "overview-cell",
      "metadata": {
        "id": "overview-cell"
      },
      "source": [
        "### Julia言語の概要\n",
        "\n",
        "- Juliaは統計処理や科学技術計算、機械学習に強いプログラミング言語です。\n",
        "- Google Colabで無料で利用できるようになりました。\n",
        "- 現在Google Colab上でのJuliaのバージョンは1.11.5です。\n",
        "\n",
        "\n",
        "**特徴：**\n",
        "- 高速な数値計算\n",
        "- 数学的記法に近い文法\n",
        "- 豊富な数学・統計ライブラリ\n",
        "\n",
        "公式サイト: https://julialang.org/\n",
        "\n",
        "![Julialang](https://github.com/shimizudan/20250914mathfes/blob/main/julialang.png?raw=1)\n",
        "\n",
        "https://zenn.dev/dannchu/articles/296dce4bf7c701\n",
        "\n",
        "![colab](https://github.com/shimizudan/20250914mathfes/blob/main/googlecolab.png?raw=1)\n",
        "\n"
      ]
    },
    {
      "cell_type": "code",
      "source": [
        "versioninfo()"
      ],
      "metadata": {
        "id": "CaCcM2R7XyPK"
      },
      "id": "CaCcM2R7XyPK",
      "execution_count": null,
      "outputs": []
    },
    {
      "cell_type": "code",
      "source": [
        "import Pkg\n",
        "Pkg.status()"
      ],
      "metadata": {
        "id": "0tCeJ6pjX1XL"
      },
      "id": "0tCeJ6pjX1XL",
      "execution_count": null,
      "outputs": []
    },
    {
      "cell_type": "markdown",
      "source": [
        "### Google Colab の基本的な使い方\n",
        "\n",
        "Google Colab（Colaboratory）は、クラウド上で動くJupyterノートブック環境です。PythonやJuliaなどのプログラミング言語を、インストールなしでブラウザ上で実行できます。\n",
        "\n",
        "#### 🔸 セルの種類\n",
        "\n",
        "| セルの種類 | 用途 | 入力内容 |\n",
        "|-----------|------|----------|\n",
        "| **コードセル** | プログラムを書く | Julia, Python などのコード |\n",
        "| **テキストセル** | 解説や見出しを書く | Markdown 記法を使った文章や数式 |\n",
        "\n",
        "✅ **セルの追加方法**：上部メニュー → `+ コード` または `+ テキスト`\n",
        "\n",
        "#### 🔸 便利なショートカット\n",
        "\n",
        "| 操作 | 方法 |\n",
        "|------|------|\n",
        "| セルを実行 | `Shift + Enter` または ▶️ ボタン |\n",
        "| 新しいセルを追加 | 上部の `+ コード` または `+ テキスト` |\n",
        "| セルを削除 | セル左のメニューからゴミ箱アイコン |\n",
        "| ノートブックを保存 | 自動保存（Googleドライブ）|\n",
        "\n",
        "#### 🔸 数式の書き方（LaTeX）\n",
        "\n",
        "テキストセルでは数式を美しく表示できます：\n",
        "\n",
        "```\n",
        "インライン数式：$x^2 + y^2 = r^2$\n",
        "\n",
        "ブロック数式：\n",
        "$$\n",
        "\\int_0^1 x^2 dx = \\frac{1}{3}\n",
        "$$\n",
        "```\n",
        "\n",
        "実際の表示：\n",
        "\n",
        "インライン数式：$x^2 + y^2 = r^2$\n",
        "\n",
        "ブロック数式：\n",
        "$$\n",
        "\\int_0^1 x^2 dx = \\frac{1}{3}\n",
        "$$"
      ],
      "metadata": {
        "id": "-EQCciQY0QPI"
      },
      "id": "-EQCciQY0QPI"
    },
    {
      "cell_type": "markdown",
      "source": [
        "## 2. 基本的な計算"
      ],
      "metadata": {
        "id": "pkj18p2yzoBZ"
      },
      "id": "pkj18p2yzoBZ"
    },
    {
      "cell_type": "markdown",
      "id": "basic-calc-cell",
      "metadata": {
        "id": "basic-calc-cell"
      },
      "source": [
        "### 基本的な四則演算"
      ]
    },
    {
      "cell_type": "code",
      "execution_count": null,
      "id": "5e51ba9d",
      "metadata": {
        "id": "5e51ba9d"
      },
      "outputs": [],
      "source": [
        "2 + 3        # 加算: 5"
      ]
    },
    {
      "cell_type": "code",
      "execution_count": null,
      "id": "3babfb9d",
      "metadata": {
        "id": "3babfb9d"
      },
      "outputs": [],
      "source": [
        "10 - 4       # 減算: 6"
      ]
    },
    {
      "cell_type": "code",
      "execution_count": null,
      "id": "7dd08e60",
      "metadata": {
        "id": "7dd08e60"
      },
      "outputs": [],
      "source": [
        "7 * 8        # 乗算: 56"
      ]
    },
    {
      "cell_type": "code",
      "execution_count": null,
      "id": "a4afee30",
      "metadata": {
        "id": "a4afee30"
      },
      "outputs": [],
      "source": [
        "17 / 3       # 除算: 5.666666666666667"
      ]
    },
    {
      "cell_type": "code",
      "execution_count": null,
      "id": "3a9e09a5",
      "metadata": {
        "id": "3a9e09a5"
      },
      "outputs": [],
      "source": [
        "17 // 3      # 除算: 有理数"
      ]
    },
    {
      "cell_type": "code",
      "execution_count": null,
      "id": "3badae61",
      "metadata": {
        "id": "3badae61"
      },
      "outputs": [],
      "source": [
        "17 ÷ 3       # 整数除算: 5"
      ]
    },
    {
      "cell_type": "code",
      "execution_count": null,
      "id": "a5220c71",
      "metadata": {
        "id": "a5220c71"
      },
      "outputs": [],
      "source": [
        "17 % 3       # 剰余: 2"
      ]
    },
    {
      "cell_type": "code",
      "execution_count": null,
      "id": "28c6ded5",
      "metadata": {
        "id": "28c6ded5"
      },
      "outputs": [],
      "source": [
        "# 分数計算（小数と有理数の違い）\n",
        "1/3 + 3*2/4     # 小数計算"
      ]
    },
    {
      "cell_type": "code",
      "execution_count": null,
      "id": "1ad988e6",
      "metadata": {
        "id": "1ad988e6"
      },
      "outputs": [],
      "source": [
        "1//3 + 3*2//4   # //で有理数"
      ]
    },
    {
      "cell_type": "code",
      "execution_count": null,
      "id": "3d82b231",
      "metadata": {
        "id": "3d82b231"
      },
      "outputs": [],
      "source": [
        "28//26 # 約分"
      ]
    },
    {
      "cell_type": "code",
      "execution_count": null,
      "id": "58096c5f",
      "metadata": {
        "id": "58096c5f"
      },
      "outputs": [],
      "source": [
        "2^10         # べき乗: 1024"
      ]
    },
    {
      "cell_type": "code",
      "execution_count": null,
      "id": "563dd0a8",
      "metadata": {
        "id": "563dd0a8"
      },
      "outputs": [],
      "source": [
        "2^64               # 0 (???)"
      ]
    },
    {
      "cell_type": "code",
      "execution_count": null,
      "id": "7bf72fd1",
      "metadata": {
        "id": "7bf72fd1"
      },
      "outputs": [],
      "source": [
        "BigInt(2)^64       # 大きな整数"
      ]
    },
    {
      "cell_type": "markdown",
      "id": "15e0cac0",
      "metadata": {
        "id": "15e0cac0"
      },
      "source": [
        "### 平方根・累乗根"
      ]
    },
    {
      "cell_type": "code",
      "execution_count": null,
      "id": "a02f8094",
      "metadata": {
        "id": "a02f8094"
      },
      "outputs": [],
      "source": [
        "sqrt(2)"
      ]
    },
    {
      "cell_type": "code",
      "execution_count": null,
      "id": "fdea78e5",
      "metadata": {
        "id": "fdea78e5"
      },
      "outputs": [],
      "source": [
        "√2"
      ]
    },
    {
      "cell_type": "code",
      "execution_count": null,
      "id": "fb11a22f",
      "metadata": {
        "id": "fb11a22f"
      },
      "outputs": [],
      "source": [
        "2^(1/3)"
      ]
    },
    {
      "cell_type": "code",
      "execution_count": null,
      "id": "64d79d36",
      "metadata": {
        "id": "64d79d36"
      },
      "outputs": [],
      "source": [
        "cbrt(2)"
      ]
    },
    {
      "cell_type": "code",
      "execution_count": null,
      "id": "5cbc5f1b",
      "metadata": {
        "id": "5cbc5f1b"
      },
      "outputs": [],
      "source": [
        "∛2"
      ]
    },
    {
      "cell_type": "markdown",
      "id": "math-constants",
      "metadata": {
        "id": "math-constants"
      },
      "source": [
        "### 数学定数"
      ]
    },
    {
      "cell_type": "code",
      "execution_count": null,
      "id": "ca1e88c4",
      "metadata": {
        "id": "ca1e88c4"
      },
      "outputs": [],
      "source": [
        "π       # 円周率: 3.141592653589793"
      ]
    },
    {
      "cell_type": "code",
      "execution_count": null,
      "id": "557aaead",
      "metadata": {
        "id": "557aaead"
      },
      "outputs": [],
      "source": [
        "pi       # π と同じ"
      ]
    },
    {
      "cell_type": "code",
      "execution_count": null,
      "id": "8268b6a0",
      "metadata": {
        "id": "8268b6a0"
      },
      "outputs": [],
      "source": [
        "ℯ       # ネイピア数: 2.718281828459045"
      ]
    },
    {
      "cell_type": "code",
      "execution_count": null,
      "id": "d13ae9aa",
      "metadata": {
        "id": "d13ae9aa"
      },
      "outputs": [],
      "source": [
        "exp(1)  # ℯ と同じ"
      ]
    },
    {
      "cell_type": "code",
      "execution_count": null,
      "id": "905edee5",
      "metadata": {
        "id": "905edee5"
      },
      "outputs": [],
      "source": [
        "2π"
      ]
    },
    {
      "cell_type": "code",
      "execution_count": null,
      "id": "02f18d79",
      "metadata": {
        "id": "02f18d79"
      },
      "outputs": [],
      "source": [
        "sin(π/2)"
      ]
    },
    {
      "cell_type": "code",
      "execution_count": null,
      "id": "0acbe157",
      "metadata": {
        "id": "0acbe157"
      },
      "outputs": [],
      "source": [
        "using Base.MathConstants\n",
        "φ   #黄金比\n"
      ]
    },
    {
      "cell_type": "code",
      "execution_count": null,
      "id": "a65c78e3",
      "metadata": {
        "id": "a65c78e3"
      },
      "outputs": [],
      "source": [
        "(1 + √5)/2"
      ]
    },
    {
      "cell_type": "code",
      "execution_count": null,
      "id": "f4e6762b",
      "metadata": {
        "id": "f4e6762b"
      },
      "outputs": [],
      "source": [
        "φ^2-φ"
      ]
    },
    {
      "cell_type": "code",
      "execution_count": null,
      "id": "1f36ce9b",
      "metadata": {
        "id": "1f36ce9b"
      },
      "outputs": [],
      "source": [
        "γ   # オイラー・マスケローニ定数"
      ]
    },
    {
      "cell_type": "markdown",
      "id": "1df109c2",
      "metadata": {
        "id": "1df109c2"
      },
      "source": [
        "### 数学関数"
      ]
    },
    {
      "cell_type": "code",
      "execution_count": null,
      "id": "f57b7bf0",
      "metadata": {
        "id": "f57b7bf0"
      },
      "outputs": [],
      "source": [
        "# 三角関数\n",
        "sin(π/4) , cos(0) , tan(π/4)"
      ]
    },
    {
      "cell_type": "code",
      "execution_count": null,
      "id": "9ab90d9c",
      "metadata": {
        "id": "9ab90d9c"
      },
      "outputs": [],
      "source": [
        "# 指数・対数関数\n",
        "exp(2) , log(ℯ) , log10(100)"
      ]
    },
    {
      "cell_type": "code",
      "execution_count": null,
      "id": "7af7ac1b",
      "metadata": {
        "id": "7af7ac1b"
      },
      "outputs": [],
      "source": [
        "# その他の関数\n",
        "@show abs(-5)      # 絶対値: 5\n",
        "@show round(3.7)   # 四捨五入: 4.0\n",
        "@show floor(3.7)   # 切り捨て: 3.0 ガウス記号\n",
        "@show ceil(3.2)    # 切り上げ: 4.0"
      ]
    },
    {
      "cell_type": "markdown",
      "id": "025e13ab",
      "metadata": {
        "id": "025e13ab"
      },
      "source": [
        "### 基本的な変数代入と計算例"
      ]
    },
    {
      "cell_type": "code",
      "execution_count": null,
      "id": "fbe9e930",
      "metadata": {
        "id": "fbe9e930"
      },
      "outputs": [],
      "source": [
        "# 変数に値を代入\n",
        "x = 2"
      ]
    },
    {
      "cell_type": "code",
      "execution_count": null,
      "id": "d8e851b0",
      "metadata": {
        "id": "d8e851b0"
      },
      "outputs": [],
      "source": [
        "y = 7"
      ]
    },
    {
      "cell_type": "code",
      "execution_count": null,
      "id": "94b8a12c",
      "metadata": {
        "id": "94b8a12c"
      },
      "outputs": [],
      "source": [
        "# 基本的な四則演算\n",
        "@show x + y\n",
        "@show y - x\n",
        "@show x * y\n",
        "@show y / x\n",
        "@show x^y"
      ]
    },
    {
      "cell_type": "markdown",
      "id": "0069af03",
      "metadata": {
        "id": "0069af03"
      },
      "source": [
        "### 関数の定義"
      ]
    },
    {
      "cell_type": "code",
      "execution_count": null,
      "id": "function-def",
      "metadata": {
        "id": "function-def"
      },
      "outputs": [],
      "source": [
        "# 関数の定義\n",
        "f(x) = x^2 + 2x - 4"
      ]
    },
    {
      "cell_type": "code",
      "execution_count": null,
      "id": "function-eval",
      "metadata": {
        "id": "function-eval"
      },
      "outputs": [],
      "source": [
        "@show f(0)\n",
        "@show f(2)\n",
        "@show f(-1)\n",
        "@show f(√2)"
      ]
    },
    {
      "cell_type": "markdown",
      "id": "plotting-section",
      "metadata": {
        "id": "plotting-section"
      },
      "source": [
        "## 3. グラフ描画\n",
        "\n",
        "Julia言語でグラフを描くには、**Plots.jl**というパッケージを使います。"
      ]
    },
    {
      "cell_type": "code",
      "execution_count": null,
      "id": "load-plots",
      "metadata": {
        "id": "load-plots"
      },
      "outputs": [],
      "source": [
        "# パッケージの読み込み\n",
        "# フォント設定（日本語ラベルのため）\n",
        "import Pkg\n",
        "Pkg.add(url=\"https://github.com/ujimushi/PlotsGRBackendFontJaEmoji.jl\")\n",
        "using PlotsGRBackendFontJaEmoji,Plots\n",
        "gr()\n",
        "println(\"読み込み完了！\")"
      ]
    },
    {
      "cell_type": "code",
      "execution_count": null,
      "id": "sine-plot",
      "metadata": {
        "id": "sine-plot"
      },
      "outputs": [],
      "source": [
        "plot(sin)"
      ]
    },
    {
      "cell_type": "code",
      "execution_count": null,
      "id": "quadratic-plot",
      "metadata": {
        "id": "quadratic-plot"
      },
      "outputs": [],
      "source": [
        "# 2次関数のグラフ\n",
        "f(x) = x^2 + 2x - 4\n",
        "g(x) = abs(f(x))\n",
        "\n",
        "plot(f, lw=2,color=:blue,label=\"y=x²+2x-4\")\n",
        "plot!(g, lw=2,ls=:dash, color=:red,label=\"y=|x²+2x-4|\")\n"
      ]
    },
    {
      "cell_type": "code",
      "execution_count": null,
      "id": "parametric-plot",
      "metadata": {
        "id": "parametric-plot"
      },
      "outputs": [],
      "source": [
        "# 媒介変数表示（リサージュ曲線）\n",
        "t = 0:0.01:2π\n",
        "xs = sin.(3t)\n",
        "ys = sin.(2t)\n",
        "\n",
        "plot(xs, ys, aspectratio=true,lw=2,title=\"リサージュ曲線\",label=\"(sin3t,sin2t)\")"
      ]
    },
    {
      "cell_type": "code",
      "execution_count": null,
      "id": "1176a6c4",
      "metadata": {
        "id": "1176a6c4"
      },
      "outputs": [],
      "source": [
        "#陰関数表示\n",
        "f(x,y) = x^2 - y^2 -1\n",
        "contour(-4:0.01:4,-4:0.01:4,f,levels=[0],title=\"双曲線\")"
      ]
    },
    {
      "cell_type": "code",
      "execution_count": null,
      "id": "surface-plot",
      "metadata": {
        "id": "surface-plot"
      },
      "outputs": [],
      "source": [
        "# 3D曲面\n",
        "x = -π:0.2:2π\n",
        "y = -π:0.2:2π\n",
        "z = [sin(xi + yi) for xi in x, yi in y]\n",
        "\n",
        "surface(x, y, z, title=\"z = sin(x + y)\")"
      ]
    },
    {
      "cell_type": "markdown",
      "id": "equations-section",
      "metadata": {
        "id": "equations-section"
      },
      "source": [
        "## 4. シンボリックな計算"
      ]
    },
    {
      "cell_type": "code",
      "execution_count": null,
      "id": "symbolic-solving",
      "metadata": {
        "id": "symbolic-solving"
      },
      "outputs": [],
      "source": [
        "# パッケージの読み込み\n",
        "import Pkg\n",
        "Pkg.add(\"SymPy\")\n",
        "using SymPy\n",
        "println(\"読み込み完了！\")"
      ]
    },
    {
      "cell_type": "markdown",
      "source": [
        "### 2次方程式"
      ],
      "metadata": {
        "id": "jIoqM8w61djm"
      },
      "id": "jIoqM8w61djm"
    },
    {
      "cell_type": "code",
      "execution_count": null,
      "id": "e737c86c",
      "metadata": {
        "id": "e737c86c"
      },
      "outputs": [],
      "source": [
        "@syms x\n",
        "# x² - 5x + 6 = 0 を解く\n",
        "solve(x^2 - 5*x + 6, x)"
      ]
    },
    {
      "cell_type": "code",
      "execution_count": null,
      "id": "af467690",
      "metadata": {
        "id": "af467690"
      },
      "outputs": [],
      "source": [
        "@syms x\n",
        "# x² + 5x + 3 = 0 を解く\n",
        "solve(x^2 + 5*x + 3, x)"
      ]
    },
    {
      "cell_type": "code",
      "execution_count": null,
      "id": "9b928403",
      "metadata": {
        "id": "9b928403"
      },
      "outputs": [],
      "source": [
        "solve(x^2 + 5*x + 3,x)[1] |> N"
      ]
    },
    {
      "cell_type": "code",
      "execution_count": null,
      "id": "9604d068",
      "metadata": {
        "id": "9604d068"
      },
      "outputs": [],
      "source": [
        "@syms x\n",
        "# x² + 5x + 7 = 0 を解く\n",
        "solve(x^2 + 5*x + 7, x)"
      ]
    },
    {
      "cell_type": "code",
      "execution_count": null,
      "id": "ba9f1f38",
      "metadata": {
        "id": "ba9f1f38"
      },
      "outputs": [],
      "source": [
        "solve(x^2 + 5*x + 7,x)[1] |> N"
      ]
    },
    {
      "cell_type": "code",
      "execution_count": null,
      "id": "general-formula",
      "metadata": {
        "id": "general-formula"
      },
      "outputs": [],
      "source": [
        "# 解の公式の一般形\n",
        "\n",
        "@syms a b c x\n",
        "println(\"ax² + bx + c = 0 の解:\")\n",
        "solve(a*x^2 + b*x + c, x)"
      ]
    },
    {
      "cell_type": "markdown",
      "source": [
        "### 高次方程式と複素数"
      ],
      "metadata": {
        "id": "-BQddtQH1kLT"
      },
      "id": "-BQddtQH1kLT"
    },
    {
      "cell_type": "code",
      "execution_count": null,
      "id": "numerical-solving",
      "metadata": {
        "id": "numerical-solving"
      },
      "outputs": [],
      "source": [
        "# 数値的解法\n",
        "@syms z\n",
        "# z⁵ - 1 = 0 を解く\n",
        "solve(z^5 - 1, z)"
      ]
    },
    {
      "cell_type": "code",
      "execution_count": null,
      "id": "2ec1042e",
      "metadata": {
        "id": "2ec1042e"
      },
      "outputs": [],
      "source": [
        "Z =  ComplexF64.(N.(solve(z^5 - 1, z)))"
      ]
    },
    {
      "cell_type": "code",
      "execution_count": null,
      "id": "complex-plane",
      "metadata": {
        "id": "complex-plane"
      },
      "outputs": [],
      "source": [
        "#複素数平面上に図示\n",
        "using Plots\n",
        "scatter(Z,\n",
        "          xlim=(-1.5,1.5),\n",
        "          ylim=(-1.5,1.5),\n",
        "          aspectratio=true)"
      ]
    },
    {
      "cell_type": "markdown",
      "source": [
        "### 連立方程式"
      ],
      "metadata": {
        "id": "lVnP5lT71ptO"
      },
      "id": "lVnP5lT71ptO"
    },
    {
      "cell_type": "code",
      "execution_count": null,
      "id": "4acc82cf",
      "metadata": {
        "id": "4acc82cf"
      },
      "outputs": [],
      "source": [
        "@syms x y\n",
        "\n",
        "# 連立方程式を解く\n",
        "eq1 = x + y - 3\n",
        "eq2 = 2*x - y - 0\n",
        "solve([eq1, eq2], [x, y])"
      ]
    },
    {
      "cell_type": "code",
      "execution_count": null,
      "id": "21606dcd",
      "metadata": {
        "id": "21606dcd"
      },
      "outputs": [],
      "source": [
        "solve([eq1, eq2], [x, y])[x]"
      ]
    },
    {
      "cell_type": "code",
      "execution_count": null,
      "id": "ef2530b2",
      "metadata": {
        "id": "ef2530b2"
      },
      "outputs": [],
      "source": [
        "solve([eq1, eq2], [x, y])[y]"
      ]
    },
    {
      "cell_type": "markdown",
      "source": [
        "### 因数分解と展開"
      ],
      "metadata": {
        "id": "uufjju2q1u7p"
      },
      "id": "uufjju2q1u7p"
    },
    {
      "cell_type": "code",
      "execution_count": null,
      "id": "3400ff41",
      "metadata": {
        "id": "3400ff41"
      },
      "outputs": [],
      "source": [
        "@syms x y\n",
        "\n",
        "# 因数分解\n",
        "factor(x^2 - y^2)"
      ]
    },
    {
      "cell_type": "code",
      "execution_count": null,
      "id": "ca0a6bf4",
      "metadata": {
        "id": "ca0a6bf4"
      },
      "outputs": [],
      "source": [
        "# 展開\n",
        "expand((x+y)^5)"
      ]
    },
    {
      "cell_type": "markdown",
      "source": [
        "### 微分・積分・極限"
      ],
      "metadata": {
        "id": "nDNPXoKW1yfN"
      },
      "id": "nDNPXoKW1yfN"
    },
    {
      "cell_type": "code",
      "execution_count": null,
      "id": "62dfdfa6",
      "metadata": {
        "id": "62dfdfa6"
      },
      "outputs": [],
      "source": [
        "# 微分\n",
        "diff(x^3 + 2*x^2 + x, x)"
      ]
    },
    {
      "cell_type": "code",
      "execution_count": null,
      "id": "8ea1e782",
      "metadata": {
        "id": "8ea1e782"
      },
      "outputs": [],
      "source": [
        "# 積分\n",
        "integrate(x^3 + 2*x^2 + x, x)"
      ]
    },
    {
      "cell_type": "code",
      "execution_count": null,
      "id": "c5035d8e",
      "metadata": {
        "id": "c5035d8e"
      },
      "outputs": [],
      "source": [
        "using SymPy\n",
        "@syms x\n",
        "\n",
        "# 基本形：sympy.limit(式, 変数, 極限点)\n",
        "sympy.limit(sin(x)/x, x, 0)  # 1"
      ]
    },
    {
      "cell_type": "code",
      "execution_count": null,
      "id": "64b33472",
      "metadata": {
        "id": "64b33472"
      },
      "outputs": [],
      "source": [
        "sympy.limit((1 + 1/x)^x, x, oo)"
      ]
    },
    {
      "cell_type": "code",
      "execution_count": null,
      "id": "73a7afd8",
      "metadata": {
        "id": "73a7afd8"
      },
      "outputs": [],
      "source": [
        "sympy.limit(1/x, x, 0, \"+\")"
      ]
    },
    {
      "cell_type": "code",
      "execution_count": null,
      "id": "2589a753",
      "metadata": {
        "id": "2589a753"
      },
      "outputs": [],
      "source": [
        "sympy.limit(1/x, x, 0, \"-\")"
      ]
    },
    {
      "cell_type": "markdown",
      "id": "sequences-section",
      "metadata": {
        "id": "sequences-section"
      },
      "source": [
        "## 5. 漸化式と数列"
      ]
    },
    {
      "cell_type": "code",
      "execution_count": null,
      "id": "recurrence",
      "metadata": {
        "id": "recurrence"
      },
      "outputs": [],
      "source": [
        "# 漸化式 a₁ = 3, aₙ₊₁ = 2aₙ + 1\n",
        "function seq_a(n::Int)\n",
        "    if n == 1\n",
        "        3\n",
        "    elseif n ≥ 2\n",
        "        2 * seq_a(n - 1) + 1\n",
        "    end\n",
        "end\n",
        "\n",
        "# 最初の10項を表示\n",
        "println(\"数列の最初の10項:\")\n",
        "for i in 1:10\n",
        "    println(\"a($i) = \", seq_a(i))\n",
        "end"
      ]
    },
    {
      "cell_type": "code",
      "execution_count": null,
      "id": "sequence-plot",
      "metadata": {
        "id": "sequence-plot"
      },
      "outputs": [],
      "source": [
        "# 数列のグラフ化\n",
        "using Plots\n",
        "X = 1:10\n",
        "Y = seq_a.(X)\n",
        "\n",
        "plot(X, Y, label=\"aₙ\", lw=2)\n",
        "scatter!(X, Y, label=\"\", markersize=5)"
      ]
    },
    {
      "cell_type": "code",
      "metadata": {
        "id": "7Jr7m9VW3KDx"
      },
      "source": [
        "using Plots\n",
        "\n",
        "# 漸化式 a₁ = 3, aₙ₊₁ = 1/2aₙ + 1\n",
        "function seq_a(n::Int)\n",
        "    if n == 1\n",
        "        3\n",
        "    elseif n ≥ 2\n",
        "        1/2 * seq_a(n - 1) + 1\n",
        "    end\n",
        "end\n",
        "\n",
        "# y = x と y = 1/2x + 1 の関数を定義\n",
        "f(x) = x\n",
        "g(x) = 1/2 * x + 1\n",
        "\n",
        "# 数列の最初の数項を計算\n",
        "n_terms = 10\n",
        "X_seq = 1:n_terms\n",
        "Y_seq = seq_a.(X_seq)\n",
        "\n",
        "# グラフを描画\n",
        "plot(f, xlim=(0, 4), ylim=(0, 4), lw=2, label=\"y = x\", color=:blue)\n",
        "plot!(g, lw=2, label=\"y = 1/2x + 1\", color=:red)\n",
        "\n",
        "# 数列の点をプロット\n",
        "scatter!(Y_seq, Y_seq, markersize=5, color=:green, label=\"数列の項 (aₙ)\")\n",
        "\n",
        "# 数列の収束の様子を補助線で示す\n",
        "for i in 1:(n_terms-1)\n",
        "    plot!([Y_seq[i], Y_seq[i]], [Y_seq[i], Y_seq[i+1]], lw=1, color=:gray, label=false)\n",
        "    plot!([Y_seq[i], Y_seq[i+1]], [Y_seq[i+1], Y_seq[i+1]], lw=1, color=:gray, label=false)\n",
        "end\n",
        "\n",
        "title!(\"漸化式 a(n+1) = 1/2a(n) + 1 の収束\")\n",
        "xlabel!(\"値\")\n",
        "ylabel!(\"値\")"
      ],
      "execution_count": null,
      "outputs": [],
      "id": "7Jr7m9VW3KDx"
    },
    {
      "cell_type": "markdown",
      "id": "optimization-section",
      "metadata": {
        "id": "optimization-section"
      },
      "source": [
        "## 6. 最適化問題"
      ]
    },
    {
      "cell_type": "markdown",
      "source": [
        "\n",
        "### 線形計画問題\n",
        "\n",
        "- $3x+4y \\leqq 10$，$4x+y \\leqq 4$，$x \\geqq 0$，$y \\geqq 0$ のとき，$x+y$の最大値・最小値は？"
      ],
      "metadata": {
        "id": "clBQgRUkzv7J"
      },
      "id": "clBQgRUkzv7J"
    },
    {
      "cell_type": "code",
      "execution_count": null,
      "id": "feasible-region",
      "metadata": {
        "id": "feasible-region"
      },
      "outputs": [],
      "source": [
        "function f(x,y)\n",
        "    if 3x+4y ≤ 10 && 4x+y ≤ 4 && x ≥ 0 && y ≥ 0\n",
        "        1\n",
        "    else 0\n",
        "    end\n",
        "end\n",
        "\n",
        "contour(-1:0.01:4,-1:0.01:4,f)"
      ]
    },
    {
      "cell_type": "code",
      "execution_count": null,
      "id": "optimization-search",
      "metadata": {
        "id": "optimization-search"
      },
      "outputs": [],
      "source": [
        "function optimize_z()\n",
        "    z_vals = Float64[]\n",
        "    for x = 0:0.001:1 , y = 0:0.001:4\n",
        "        if f(x,y) == 1\n",
        "          xs , ys = x , y\n",
        "          zs = xs + ys\n",
        "          push!(z_vals, zs)\n",
        "        end\n",
        "    end\n",
        "    return minimum(z_vals), maximum(z_vals)\n",
        "end\n",
        "\n",
        "t = optimize_z()\n",
        "println(\"最小値は$(t[1])，最大値は$(t[2])\")"
      ]
    },
    {
      "cell_type": "markdown",
      "id": "nonlinear-opt",
      "metadata": {
        "id": "nonlinear-opt"
      },
      "source": [
        "### 非線形最適化問題\n",
        "\n",
        "- $a$，$b$を正の実数とする。$\\displaystyle{a^3+b^3-2ab}$の最小値を求めよ。"
      ]
    },
    {
      "cell_type": "code",
      "execution_count": null,
      "id": "c4cb5151",
      "metadata": {
        "id": "c4cb5151"
      },
      "outputs": [],
      "source": [
        "using Plots\n",
        "\n",
        "# 関数の3Dプロット\n",
        "x_range = -0.5:0.1:2.5\n",
        "y_range = -0.5:0.1:2.5\n",
        "z_vals = [xi^3 + yi^3 - 2*xi*yi for xi in x_range, yi in y_range]\n",
        "\n",
        "surface(x_range, y_range, z_vals,\n",
        "        title=\"f(a, b) = a³ + b³ - 2ab\",\n",
        "        xlabel=\"a\",\n",
        "        ylabel=\"b\",\n",
        "        zlabel=\"f(a, b)\")"
      ]
    },
    {
      "cell_type": "code",
      "execution_count": null,
      "id": "70963c0d",
      "metadata": {
        "id": "70963c0d"
      },
      "outputs": [],
      "source": [
        "f(a,b) = a^3+b^3-2*a*b\n",
        "\n",
        "function optimize_z()\n",
        "    z_vals = Float64[]\n",
        "    x_list = Float64[]\n",
        "    y_list = Float64[]\n",
        "    for x = 0:0.001:2.5 , y = 0:0.001:2.5\n",
        "      push!(z_vals, f(x,y))\n",
        "      push!(x_list, x)\n",
        "      push!(y_list, y)\n",
        "    end\n",
        "    return minimum(z_vals), x_list[argmin(z_vals)], y_list[argmin(z_vals)]\n",
        "end\n",
        "\n",
        "t = optimize_z()\n",
        "println(\"x = $(t[2]),y = $(t[3]) のとき最小値は$(t[1])\")"
      ]
    },
    {
      "cell_type": "code",
      "execution_count": null,
      "id": "optim-surface",
      "metadata": {
        "id": "optim-surface"
      },
      "outputs": [],
      "source": [
        "# 関数の3Dプロット\n",
        "x_range = -0.5:0.1:2.5\n",
        "y_range = -0.5:0.1:2.5\n",
        "z_vals = [xi^3 + yi^3 - 2*xi*yi for xi in x_range, yi in y_range]\n",
        "\n",
        "surface(x_range, y_range, z_vals,\n",
        "        title=\"f(a, b) = a³ + b³ - 2ab\",\n",
        "        xlabel=\"a\",\n",
        "        ylabel=\"b\",\n",
        "        zlabel=\"f(a, b)\")\n",
        "\n",
        "# 最適解をプロット上に表示\n",
        "scatter3d!([t[2]], [t[3]], [t[1]],\n",
        "           color=:red,\n",
        "           markersize=4)"
      ]
    },
    {
      "cell_type": "markdown",
      "id": "f3d88e69",
      "metadata": {
        "id": "f3d88e69"
      },
      "source": [
        "## 7. データの分析・統計・分布"
      ]
    },
    {
      "cell_type": "code",
      "execution_count": null,
      "id": "d17cd8b0",
      "metadata": {
        "id": "d17cd8b0"
      },
      "outputs": [],
      "source": [
        "import Pkg\n",
        "Pkg.add(\"Distributions\")\n",
        "\n",
        "using Distributions\n",
        "\n",
        "# 箱ひげ図\n",
        "function myboxplot(x; kwargs...)\n",
        "    q1 = quantile(x, 0.25)\n",
        "    q2 = quantile(x, 0.50)\n",
        "    q3 = quantile(x, 0.75)\n",
        "    iqr = q3 - q1\n",
        "    lower = quantile(x, 0)\n",
        "    upper = quantile(x, 1)\n",
        "\n",
        "    # 空プロットに kwargs を反映\n",
        "    plot(xlim=(0.5, 1.5), legend=false, ylabel=\"score\"; kwargs...)\n",
        "\n",
        "    # 箱\n",
        "    box_x = [0.8, 1.2, 1.2, 0.8, 0.8]\n",
        "    box_y = [q1,  q1,  q3,  q3,  q1]\n",
        "    plot!(box_x, box_y, seriestype=:shape, opacity=0.15, linecolor=:blue, fillcolor=:blue)\n",
        "\n",
        "    # 中央値\n",
        "    plot!([0.8, 1.2], [q2, q2], lw=2, color=:red)\n",
        "\n",
        "    # ひげ\n",
        "    plot!([1, 1], [q3, upper], lw=1, color=:black, ls=:dash)\n",
        "    plot!([1, 1], [q1, lower], lw=1, color=:black, ls=:dash)\n",
        "\n",
        "    # ひげ先\n",
        "    plot!( [0.9, 1.1], [upper, upper], lw=1, color=:black)\n",
        "    plot!([0.9, 1.1], [lower, lower], lw=1, color=:black)\n",
        "\n",
        "end\n",
        "println(\"読み込み完了！\")"
      ]
    },
    {
      "cell_type": "markdown",
      "id": "f71aafd3",
      "metadata": {
        "id": "f71aafd3"
      },
      "source": [
        "### 基本的な統計量とヒストグラム\n",
        "\n",
        "- テストの点数データの分析\n",
        "- あるクラスの数学のテストの点数を分析してみましょう。"
      ]
    },
    {
      "cell_type": "code",
      "execution_count": null,
      "id": "d2f965ee",
      "metadata": {
        "id": "d2f965ee"
      },
      "outputs": [],
      "source": [
        "# サンプルデータ：あるクラスの数学のテストの点数\n",
        "test_scores = [85, 92, 78, 88, 95, 82, 90, 87, 83, 91, 76, 89, 94, 80, 86]\n",
        "\n",
        "println(\"数学のテストの点数：\", test_scores)\n",
        "println(\"データの個数：\", length(test_scores))"
      ]
    },
    {
      "cell_type": "code",
      "execution_count": null,
      "id": "0a902ded",
      "metadata": {
        "id": "0a902ded"
      },
      "outputs": [],
      "source": [
        "# 基本統計量の計算\n",
        "println(\"=== 基本統計量 ===\")\n",
        "println(\"平均値：\", round(mean(test_scores), digits=2))\n",
        "println(\"中央値：\", median(test_scores))\n",
        "println(\"最頻値：\", mode(test_scores))\n",
        "println(\"\")\n",
        "println(\"最大値：\", maximum(test_scores))\n",
        "println(\"最小値：\", minimum(test_scores))\n",
        "println(\"範囲：\", maximum(test_scores) - minimum(test_scores))\n",
        "println(\"\")\n",
        "println(\"分散：\", round(var(test_scores), digits=2))\n",
        "println(\"標準偏差：\", round(std(test_scores), digits=2))\n",
        "println(\"\")\n",
        "println(\"第1四分位数：\", quantile(test_scores, 0.25))\n",
        "println(\"第3四分位数：\", quantile(test_scores, 0.75))\n",
        "println(\"四分位範囲：\", quantile(test_scores, 0.75) - quantile(test_scores, 0.25))"
      ]
    },
    {
      "cell_type": "code",
      "execution_count": null,
      "id": "072433fc",
      "metadata": {
        "id": "072433fc"
      },
      "outputs": [],
      "source": [
        "# 基本的なヒストグラム\n",
        "histogram(test_scores, bins=5,\n",
        "         title=\"数学テストの点数分布\",\n",
        "         xlabel=\"点数\",\n",
        "         ylabel=\"人数\",\n",
        "         color=:skyblue,\n",
        "         linewidth=2,\n",
        "         alpha=0.7,\n",
        "         label=\"ヒストグラム\")\n",
        "\n",
        "# 平均値の線を追加\n",
        "vline!([mean(test_scores)], linewidth=3, color=:red, label=\"平均値\")\n",
        "\n",
        "# 中央値の線を追加\n",
        "vline!([median(test_scores)], linewidth=3, color=:green, label=\"中央値\", linestyle=:dash)"
      ]
    },
    {
      "cell_type": "markdown",
      "id": "9824fd2c",
      "metadata": {
        "id": "9824fd2c"
      },
      "source": [
        "### 散布図と回帰直線\n",
        "\n",
        "- 学習時間と成績の関係分析\n",
        "- 散布図は、2つの変数の関係を視覚的に表現するのに最適なグラフです。\n"
      ]
    },
    {
      "cell_type": "code",
      "execution_count": null,
      "id": "4cb9757d",
      "metadata": {
        "id": "4cb9757d"
      },
      "outputs": [],
      "source": [
        "# 学習時間と成績の関係を調べるデータ\n",
        "study_hours = [1, 2, 3, 4, 5, 6, 7, 8, 9, 10, 2, 3, 4, 5, 6, 7, 8, 9, 1, 10]\n",
        "exam_scores = [45, 55, 60, 68, 75, 80, 85, 88, 92, 95, 50, 58, 65, 72, 78, 83, 87, 90, 48, 93]\n",
        "\n",
        "# 相関係数を計算\n",
        "correlation = cor(study_hours, exam_scores)\n",
        "println(\"学習時間と成績の相関係数：\", round(correlation, digits=3))\n",
        "\n",
        "# 散布図の作成\n",
        "scatter(study_hours, exam_scores,\n",
        "        title=\"学習時間と試験成績の関係\",\n",
        "        xlabel=\"学習時間 (時間)\",\n",
        "        ylabel=\"試験成績 (点)\",\n",
        "        color=:blue,\n",
        "        markersize=6,\n",
        "        alpha=0.7,\n",
        "        label=\"データ点\")"
      ]
    },
    {
      "cell_type": "code",
      "execution_count": null,
      "id": "869f46e5",
      "metadata": {
        "id": "869f46e5"
      },
      "outputs": [],
      "source": [
        "# 回帰直線を追加\n",
        "# 最小二乗法で回帰直線の係数を求める\n",
        "n = length(study_hours)\n",
        "x_mean = mean(study_hours)\n",
        "y_mean = mean(exam_scores)\n",
        "\n",
        "# 回帰直線の傾き\n",
        "slope = sum((study_hours .- x_mean) .* (exam_scores .- y_mean)) / sum((study_hours .- x_mean).^2)\n",
        "# 回帰直線の切片\n",
        "intercept = y_mean - slope * x_mean\n",
        "\n",
        "println(\"回帰直線の方程式：y = \", round(slope, digits=2), \"x + \", round(intercept, digits=2))\n",
        "\n",
        "# 散布図と回帰直線を描画\n",
        "scatter(study_hours, exam_scores,\n",
        "        title=\"学習時間と試験成績の関係（回帰直線付き）\",\n",
        "        xlabel=\"学習時間 (時間)\",\n",
        "        ylabel=\"試験成績 (点)\",\n",
        "        color=:blue,\n",
        "        markersize=6,\n",
        "        alpha=0.7,\n",
        "        label=\"データ点\")\n",
        "\n",
        "# 回帰直線を追加\n",
        "x_line = 0:0.1:10\n",
        "y_line = slope .* x_line .+ intercept\n",
        "plot!(x_line, y_line, color=:red, linewidth=3, label=\"回帰直線\")"
      ]
    },
    {
      "cell_type": "markdown",
      "id": "89750aaf",
      "metadata": {
        "id": "89750aaf"
      },
      "source": [
        "### 複数のデータの比較\n",
        "\n",
        "- 2つのクラスの成績比較\n",
        "- 異なるグループのデータを比較することで、より深い洞察を得ることができます。\n"
      ]
    },
    {
      "cell_type": "code",
      "execution_count": null,
      "id": "81112f00",
      "metadata": {
        "id": "81112f00"
      },
      "outputs": [],
      "source": [
        "# 2つのクラスのテスト結果\n",
        "class_a = [75, 80, 85, 78, 82, 88, 76, 84, 79, 87, 81, 83, 86, 77, 89]\n",
        "class_b = [70, 85, 90, 72, 88, 92, 74, 86, 73, 91, 89, 87, 94, 75, 93]\n",
        "\n",
        "println(\"=== Aクラスの統計量 ===\")\n",
        "println(\"平均値：\", round(mean(class_a), digits=2))\n",
        "println(\"中央値：\", median(class_a))\n",
        "println(\"標準偏差：\", round(std(class_a), digits=2))\n",
        "\n",
        "println(\"\\n=== Bクラスの統計量 ===\")\n",
        "println(\"平均値：\", round(mean(class_b), digits=2))\n",
        "println(\"中央値：\", median(class_b))\n",
        "println(\"標準偏差：\", round(std(class_b), digits=2))"
      ]
    },
    {
      "cell_type": "code",
      "execution_count": null,
      "id": "09d0de6b",
      "metadata": {
        "id": "09d0de6b"
      },
      "outputs": [],
      "source": [
        "# 2つのクラスのヒストグラムを比較\n",
        "# データの範囲を確認して階級を統一\n",
        "min_score = min(minimum(class_a), minimum(class_b))\n",
        "max_score = max(maximum(class_a), maximum(class_b))\n",
        "bin_edges = min_score:2:max_score  # 2点刻みで階級を設定\n",
        "\n",
        "p1 = histogram(class_a, bins=bin_edges, alpha=0.7, color=:blue,\n",
        "              title=\"Aクラスの成績分布\", xlabel=\"点数\", ylabel=\"人数\", label=\"Aクラス\")\n",
        "vline!([mean(class_a)], color=:red, linewidth=3, label=\"平均値\")\n",
        "\n",
        "p2 = histogram(class_b, bins=bin_edges, alpha=0.7, color=:green,\n",
        "              title=\"Bクラスの成績分布\", xlabel=\"点数\", ylabel=\"人数\", label=\"Bクラス\")\n",
        "vline!([mean(class_b)], color=:red, linewidth=3, label=\"平均値\")\n",
        "\n",
        "\n",
        "# 箱ひげ図\n",
        "p3 = myboxplot(class_a,  title=\"Aクラスの箱ひげ図\",xticks=([1], [\"Class A\"]),ylabel=\"点数\",ylim = (50,100),label=\"A組\")\n",
        "\n",
        "p4 = myboxplot(class_b, title=\"Bクラスの箱ひげ図\",xticks=([1], [\"Class B\"]), ylabel=\"点数\",ylim = (50,100),label=\"B組\")\n",
        "\n",
        "plot(p1, p2, p3,p4,layout=(2,2), size=(600, 600))\n"
      ]
    },
    {
      "cell_type": "markdown",
      "id": "statistics-section",
      "metadata": {
        "id": "statistics-section"
      },
      "source": [
        "### 母比率の問題\n",
        "\n",
        "- ある高校の生徒150名を無作為に選んで調査したところ、スマートフォンを所有している生徒は126名でした。\n",
        "- この高校の生徒全体におけるスマートフォン所有率（母比率 p）について、信頼度95%の信頼区間を求めなさい。\n",
        "\n",
        "#### 与えられた情報\n",
        "- 標本サイズ：n = 150名\n",
        "- スマートフォン所有者数：x = 126名\n",
        "- 標本比率：p̂ = 126/150 = 0.84\n",
        "- 信頼度：95%（有意水準 α = 0.05）\n",
        "\n",
        "#### 理論\n",
        "標本比率 p̂ は近似的に正規分布 N(p, p(1-p)/n) に従います。\n",
        "信頼区間は p̂ ± z_{α/2} × √(p̂(1-p̂)/n) で計算されます。"
      ]
    },
    {
      "cell_type": "code",
      "execution_count": null,
      "id": "confidence-interval",
      "metadata": {
        "id": "confidence-interval"
      },
      "outputs": [],
      "source": [
        "# 母比率の信頼区間（Wald法）\n",
        "\n",
        "# 与えられた値\n",
        "n = 150\n",
        "x = 126\n",
        "p̂ = x / n\n",
        "α = 0.05\n",
        "\n",
        "# 標準誤差\n",
        "se = sqrt(p̂ * (1 - p̂) / n)\n",
        "\n",
        "# z値（95%信頼区間）\n",
        "z = cquantile(Normal(), α/2) #z値\n",
        "\n",
        "# 信頼区間計算\n",
        "lower = p̂ - z * se\n",
        "upper = p̂ + z * se\n",
        "\n",
        "println(\"母比率 p の95%信頼区間: ($(round(lower, digits=4)), $(round(upper, digits=4)))\")"
      ]
    },
    {
      "cell_type": "code",
      "execution_count": null,
      "id": "pvalue-function",
      "metadata": {
        "id": "pvalue-function"
      },
      "outputs": [],
      "source": [
        "# P値関数（Wald）\n",
        "function pvalue_f_wald(k, p, n)\n",
        "    p̂ = k/n\n",
        "    2ccdf(Normal(),abs(p̂ - p)/√(p̂ *(1-p̂)/n))\n",
        "end\n",
        "\n",
        "\n",
        "#Waldの信頼区間\n",
        "function confint_bin_wald(k; n, α=0.05)\n",
        "    p̂ = k/n\n",
        "    z = cquantile(Normal(), α/2) # z値\n",
        "    se = sqrt(p̂ * (1 - p̂) / n) # 標準誤差\n",
        "    p̂ - z * se ,  p̂ + z * se\n",
        "end\n",
        "\n",
        "k , n  = 126 , 150\n",
        "α = 0.05\n",
        "\n",
        "plot(p->pvalue_f_wald(k,p,n),label=\"pvalue_f_wald\",xlim=(0.6,1))\n",
        "plot!(x->α,label=\"α=0.05\")\n",
        "@show p_L, p_U = confint_bin_wald(k; n,α)\n",
        "plot!([p_L, p_U], fill(0.05, 2); lw=3, c=:red, label=\"wald\")"
      ]
    },
    {
      "cell_type": "markdown",
      "source": [
        "### 正規分布と二項分布の可視化"
      ],
      "metadata": {
        "id": "QTfqDwEV0tyR"
      },
      "id": "QTfqDwEV0tyR"
    },
    {
      "cell_type": "code",
      "execution_count": null,
      "id": "distributions-plot",
      "metadata": {
        "id": "distributions-plot"
      },
      "outputs": [],
      "source": [
        "# 正規分布と二項分布の可視化\n",
        "\n",
        "# 正規分布\n",
        "p1 = plot(x->pdf(Normal(),x),\n",
        "         xlim=(-4, 4),\n",
        "         title=\"Normal(0,1)\",\n",
        "         lw=2,\n",
        "         fill=true,\n",
        "         alpha=0.3,label=false)\n",
        "\n",
        "# 二項分布\n",
        "n_binom = 100\n",
        "p_binom = 1/3\n",
        "binom_dist = Binomial(n_binom, p_binom)\n",
        "x_vals = 0:n_binom\n",
        "theoretical_probs = [pdf(binom_dist, k) for k in x_vals]\n",
        "\n",
        "p2 = bar(x_vals, theoretical_probs,\n",
        "         title=\" Binomial($n_binom, $(round(p_binom, digits=2)))\",\n",
        "         lw=1,xlim=(0,100),\n",
        "         fill=true,\n",
        "         alpha=0.3,label=false)\n",
        "\n",
        "\n",
        "plot(p1, p2, layout=(1, 2), size=(800, 300))\n",
        "\n",
        "\n",
        "# using StatsPlots # 読み込みが遅いので今回は使いませんでした。\n",
        "# plot(Normal())\n",
        "# plot(Binomial(100,1/3))"
      ]
    },
    {
      "cell_type": "markdown",
      "id": "combinatorics-section",
      "metadata": {
        "id": "combinatorics-section"
      },
      "source": [
        "## 8. 整数問題・場合の数・確率のシミュレーション\n"
      ]
    },
    {
      "cell_type": "markdown",
      "source": [
        "\n",
        "### 整数の性質を調べる\n",
        "\n",
        "- $\\sqrt{n^2+n+2025}$が自然数となるような整数 $n$ をすべて求めよう！"
      ],
      "metadata": {
        "id": "ST9y8Rod01zB"
      },
      "id": "ST9y8Rod01zB"
    },
    {
      "cell_type": "code",
      "source": [
        "# 素数パッケージ\n",
        "import Pkg\n",
        "Pkg.add(\"Primes\")\n",
        "using Primes"
      ],
      "metadata": {
        "id": "a25GYBq6cPvW"
      },
      "id": "a25GYBq6cPvW",
      "execution_count": null,
      "outputs": []
    },
    {
      "cell_type": "code",
      "execution_count": null,
      "id": "modular-arithmetic",
      "metadata": {
        "id": "modular-arithmetic"
      },
      "outputs": [],
      "source": [
        "X = 2025\n",
        "# m = √(n^2+n+X)\n",
        "# m^2=(n+1/2)^2-1/4+X\n",
        "# (2m)^2=(2n+1)^2-1+4X\n",
        "#(2m-2n-1)(2m+2n+1) = 4X-1\n",
        "#8099を素因数分解してペアを求めればいいかな。そして，連立方程式を解けばいい。\n",
        "#nは負の数もあることに注意\n",
        "\n",
        "X = 2025\n",
        "P =  divisors(4X-1)\n",
        "Q = (4X-1) .//P\n",
        "P2 = -1 .* divisors(4X-1)\n",
        "Q2 = (4X-1) .//P2\n",
        "\n",
        "length(P)\n",
        "R = []\n",
        "for i in 1:length(P)\n",
        "    V = [\n",
        "        2 -2\n",
        "        2 2\n",
        "    ]\\[\n",
        "        1+P[i]\n",
        "        -1+Q[i]\n",
        "    ]\n",
        "    #  println(V)\n",
        "    if isinteger(V[1]) && isinteger(V[2])\n",
        "       push!(R,Int(V[2]))\n",
        "    end\n",
        "end\n",
        "\n",
        "for i in 1:length(P)\n",
        "    V = [\n",
        "        2 -2\n",
        "        2 2\n",
        "    ]\\[\n",
        "        1+P2[i]\n",
        "        -1+Q2[i]\n",
        "    ]\n",
        "\n",
        "    if isinteger(V[1]) && isinteger(V[2])\n",
        "       push!(R,Int(V[2]))\n",
        "    end\n",
        "end\n",
        "\n",
        "union!(R) |>sort!\n",
        "\n"
      ]
    },
    {
      "cell_type": "markdown",
      "id": "combinatorics",
      "metadata": {
        "id": "combinatorics"
      },
      "source": [
        "### 場合の数\n",
        "\n",
        "- 5桁の数10000から99999までの数字の中で，22033の用に3種類の文字からなる数は何個あるでしょうか？"
      ]
    },
    {
      "cell_type": "code",
      "source": [
        "# 組み合わせパッケージ\n",
        "import Pkg\n",
        "Pkg.add(\"Combinatorics\")\n",
        "using Combinatorics"
      ],
      "metadata": {
        "id": "Nzja1_macXKE"
      },
      "id": "Nzja1_macXKE",
      "execution_count": null,
      "outputs": []
    },
    {
      "cell_type": "code",
      "source": [
        "result = []\n",
        "for combo in combinations(0:9, 3)\n",
        "    for seq in Iterators.product(fill(combo, 5)...)\n",
        "        if seq[1] != 0 && length(unique(seq)) == 3\n",
        "            push!(result, collect(seq))\n",
        "        end\n",
        "    end\n",
        "end\n",
        "\n",
        "println(\"総数: $(length(result))\")\n",
        "println(\"例: $(join(result[1], \"\"))\")"
      ],
      "metadata": {
        "id": "tPoPJF4GdWp3"
      },
      "id": "tPoPJF4GdWp3",
      "execution_count": null,
      "outputs": []
    },
    {
      "cell_type": "code",
      "execution_count": null,
      "id": "permutations",
      "metadata": {
        "id": "permutations"
      },
      "outputs": [],
      "source": [
        "function digits_from_number(n)\n",
        "    return [parse(Int, c) for c in string(n)]\n",
        "end\n",
        "\n",
        "k = 0\n",
        "for i =10000:99999\n",
        "    k += digits_from_number(i) |> union |> length == 3\n",
        "end\n",
        "k"
      ]
    },
    {
      "cell_type": "markdown",
      "id": "coin-dice-section",
      "metadata": {
        "id": "coin-dice-section"
      },
      "source": [
        "### コイン投げのシミュレーション\n",
        "\n",
        "- 基本的な確率現象をシミュレーションで確かめてみましょう。"
      ]
    },
    {
      "cell_type": "code",
      "execution_count": null,
      "id": "coin-simulation",
      "metadata": {
        "id": "coin-simulation"
      },
      "outputs": [],
      "source": [
        "# コイン投げの関数を定義\n",
        "function coin_flip()\n",
        "    return rand() < 0.5 ? \"表\" : \"裏\"\n",
        "end\n",
        "\n",
        "# 大量のコイン投げをシミュレーション\n",
        "function simulate_coin_flips(n)\n",
        "    heads_count = 0\n",
        "    for i in 1:n\n",
        "        if rand() < 0.5\n",
        "            heads_count += 1\n",
        "        end\n",
        "    end\n",
        "    return heads_count / n\n",
        "end\n",
        "\n",
        "# 異なる回数でシミュレーション\n",
        "trials = [10, 100, 1000, 10000, 100000]\n",
        "results = []\n",
        "\n",
        "println(\"コイン投げシミュレーション結果：\")\n",
        "for n in trials\n",
        "    prob = simulate_coin_flips(n)\n",
        "    push!(results, prob)\n",
        "    println(\"$(n)回投げて表が出る確率: $(round(prob, digits=4))\")\n",
        "end\n",
        "\n",
        "println(\"理論値: 0.5\")"
      ]
    },
    {
      "cell_type": "code",
      "execution_count": null,
      "id": "cd99b8eb",
      "metadata": {
        "id": "cd99b8eb"
      },
      "outputs": [],
      "source": [
        "# 確率の収束を可視化\n",
        "n_max = 1000\n",
        "cumulative_prob = []\n",
        "heads_count = 0\n",
        "\n",
        "for i in 1:n_max\n",
        "    if rand() < 0.5\n",
        "        heads_count += 1\n",
        "    end\n",
        "    push!(cumulative_prob, heads_count / i)\n",
        "end\n",
        "\n",
        "# グラフを描画\n",
        "plot(1:n_max, cumulative_prob,\n",
        "     title=\"コイン投げの確率の収束\",\n",
        "     xlabel=\"試行回数\",\n",
        "     ylabel=\"表が出る確率\",\n",
        "     color=:blue, linewidth=2, label=\"シミュレーション結果\")\n",
        "\n",
        "# 理論値の線を追加\n",
        "hline!([0.5], color=:red, linewidth=3, linestyle=:dash, label=\"理論値 (0.5)\")\n",
        "\n",
        "# 信頼区間を追加（参考）\n",
        "hline!([0.45, 0.55], color=:gray, alpha=0.5, label=\"参考範囲\")"
      ]
    },
    {
      "cell_type": "markdown",
      "id": "76882182",
      "metadata": {
        "id": "76882182"
      },
      "source": [
        "### 2つのサイコロの和\n",
        "- 2つのサイコロを振って、その和を調べてみましょう。どの数字が最も出やすいでしょうか？\n"
      ]
    },
    {
      "cell_type": "code",
      "execution_count": null,
      "id": "ef87ffde",
      "metadata": {
        "id": "ef87ffde"
      },
      "outputs": [],
      "source": [
        "# サイコロを振る関数\n",
        "function roll_dice()\n",
        "    return rand(1:6)\n",
        "end\n",
        "# 2つのサイコロの和をシミュレーション\n",
        "n_rolls = 10000\n",
        "sums = []\n",
        "\n",
        "for _ in 1:n_rolls\n",
        "    dice1 = roll_dice()\n",
        "    dice2 = roll_dice()\n",
        "    push!(sums, dice1 + dice2)\n",
        "end\n",
        "\n",
        "# 理論的な確率を計算\n",
        "theoretical_probs = Dict(\n",
        "    2 => 1/36, 3 => 2/36, 4 => 3/36, 5 => 4/36, 6 => 5/36, 7 => 6/36,\n",
        "    8 => 5/36, 9 => 4/36, 10 => 3/36, 11 => 2/36, 12 => 1/36\n",
        ")\n",
        "\n",
        "println(\"2つのサイコロの和の分布：\")\n",
        "for s in 2:12\n",
        "    count = sum(sums .== s)\n",
        "    simulated_prob = count / n_rolls\n",
        "    theoretical_prob = theoretical_probs[s]\n",
        "    println(\"和=$(s): 実験=$(round(simulated_prob, digits=3)), 理論=$(round(theoretical_prob, digits=3))\")\n",
        "end"
      ]
    },
    {
      "cell_type": "code",
      "execution_count": null,
      "id": "33cf1a38",
      "metadata": {
        "id": "33cf1a38"
      },
      "outputs": [],
      "source": [
        "# 2つのサイコロの和のヒストグラム\n",
        "histogram(sums, bins=1.5:1:12.5,\n",
        "         title=\"2つのサイコロの和の分布\",\n",
        "         xlabel=\"サイコロの和\",\n",
        "         ylabel=\"出現回数\",\n",
        "         color=:green,\n",
        "         alpha=0.7,\n",
        "         normalize=true,\n",
        "         label=\"シミュレーション結果\")\n",
        "\n",
        "# 理論値をプロット\n",
        "theoretical_x = 2:12\n",
        "theoretical_y = [theoretical_probs[s] for s in theoretical_x]\n",
        "plot!(theoretical_x, theoretical_y,\n",
        "      color=:red, linewidth=3, marker=:circle, markersize=6,\n",
        "      label=\"理論値\")"
      ]
    },
    {
      "cell_type": "markdown",
      "id": "birthday-paradox-section",
      "metadata": {
        "id": "birthday-paradox-section"
      },
      "source": [
        "### 誕生日のパラドックス\n",
        "\n",
        "- 「30人のクラスで、同じ誕生日の人が2人以上いる確率は？」\n",
        "- 直感では低そうですが、実際は驚くべき結果になります。"
      ]
    },
    {
      "cell_type": "code",
      "execution_count": null,
      "id": "birthday-paradox",
      "metadata": {
        "id": "birthday-paradox"
      },
      "outputs": [],
      "source": [
        "# 誕生日の重複をチェックする関数\n",
        "function has_birthday_collision(n_people)\n",
        "    birthdays = rand(1:365, n_people)  # 1-365の誕生日をランダムに生成\n",
        "    return length(unique(birthdays)) < n_people  # 重複があればtrue\n",
        "end\n",
        "\n",
        "# 異なる人数での誕生日パラドックスをシミュレーション\n",
        "function birthday_paradox_simulation(n_people, n_trials=10000)\n",
        "    collisions = 0\n",
        "    for _ in 1:n_trials\n",
        "        if has_birthday_collision(n_people)\n",
        "            collisions += 1\n",
        "        end\n",
        "    end\n",
        "    return collisions / n_trials\n",
        "end\n",
        "\n",
        "# 様々な人数で実験\n",
        "people_counts = [10, 15, 20, 23, 25, 30, 35, 40, 50]\n",
        "probabilities = []\n",
        "\n",
        "println(\"誕生日パラドックスのシミュレーション結果：\")\n",
        "for n in people_counts\n",
        "    prob = birthday_paradox_simulation(n)\n",
        "    push!(probabilities, prob)\n",
        "    println(\"$(n)人: $(round(prob, digits=3))\")\n",
        "end"
      ]
    },
    {
      "cell_type": "code",
      "execution_count": null,
      "id": "birthday-theory",
      "metadata": {
        "id": "birthday-theory"
      },
      "outputs": [],
      "source": [
        "# 理論値の計算\n",
        "function birthday_theory(n)\n",
        "    if n > 365\n",
        "        return 1.0\n",
        "    end\n",
        "\n",
        "    prob_no_collision = 1.0\n",
        "    for i in 0:(n-1)\n",
        "        prob_no_collision *= (365 - i) / 365\n",
        "    end\n",
        "\n",
        "    return 1 - prob_no_collision\n",
        "end\n",
        "\n",
        "# 理論値を計算\n",
        "theoretical_probs = [birthday_theory(n) for n in people_counts]\n",
        "\n",
        "# 誕生日パラドックスの可視化\n",
        "plot(people_counts, probabilities,\n",
        "     marker=:circle, markersize=6, linewidth=2, color=:blue,\n",
        "     title=\"誕生日パラドックス\",\n",
        "     xlabel=\"クラスの人数\",\n",
        "     ylabel=\"同じ誕生日の人がいる確率\",\n",
        "     label=\"シミュレーション結果\")\n",
        "\n",
        "plot!(people_counts, theoretical_probs,\n",
        "      linewidth=3, color=:red, linestyle=:dash,\n",
        "      label=\"理論値\")\n",
        "\n",
        "# 50%ラインを追加\n",
        "hline!([0.5], color=:gray, linestyle=:dot, alpha=0.7, label=\"50%ライン\")\n",
        "\n",
        "# 23人のポイントを強調\n",
        "scatter!([23], [birthday_theory(23)],\n",
        "         markersize=10, color=:orange,\n",
        "         label=\"23人 ($(round(birthday_theory(23)*100, digits=1))%)\")"
      ]
    },
    {
      "cell_type": "markdown",
      "id": "pi-estimation",
      "metadata": {
        "id": "pi-estimation"
      },
      "source": [
        "### モンテカルロ法による円周率の計算\n",
        "\n",
        "- ランダムな点を使って円周率πを求めてみましょう。"
      ]
    },
    {
      "cell_type": "code",
      "execution_count": null,
      "id": "monte-carlo-pi",
      "metadata": {
        "id": "monte-carlo-pi"
      },
      "outputs": [],
      "source": [
        "# モンテカルロ法でπを計算\n",
        "function estimate_pi(n_points)\n",
        "    inside_circle = 0\n",
        "\n",
        "    for _ in 1:n_points\n",
        "        x = rand() * 2 - 1  # -1から1の範囲\n",
        "        y = rand() * 2 - 1  # -1から1の範囲\n",
        "\n",
        "        # 原点からの距離が1以下なら円の内部\n",
        "        if x^2 + y^2 <= 1\n",
        "            inside_circle += 1\n",
        "        end\n",
        "    end\n",
        "\n",
        "    # π ≈ 4 × (円内の点の数) / (全体の点の数)\n",
        "    return 4 * inside_circle / n_points\n",
        "end\n",
        "\n",
        "# 異なる点数でπを推定\n",
        "point_counts = [100, 1000, 10000, 100000, 1000000]\n",
        "pi_estimates = []\n",
        "\n",
        "println(\"モンテカルロ法による円周率の推定：\")\n",
        "for n in point_counts\n",
        "    pi_est = estimate_pi(n)\n",
        "    push!(pi_estimates, pi_est)\n",
        "    error = abs(pi_est - π)\n",
        "    println(\"$(n)点: π ≈ $(round(pi_est, digits=4)), 誤差: $(round(error, digits=4))\")\n",
        "end\n",
        "\n",
        "println(\"真の値: π = $(round(π, digits=6))\")"
      ]
    },
    {
      "cell_type": "code",
      "execution_count": null,
      "id": "b596e2a1",
      "metadata": {
        "id": "b596e2a1"
      },
      "outputs": [],
      "source": [
        "# モンテカルロ法の可視化（少数の点で）\n",
        "n_points = 1000\n",
        "x_points = []\n",
        "y_points = []\n",
        "colors = []\n",
        "\n",
        "for _ in 1:n_points\n",
        "    x = rand() * 2 - 1\n",
        "    y = rand() * 2 - 1\n",
        "    push!(x_points, x)\n",
        "    push!(y_points, y)\n",
        "\n",
        "    # 円の内部なら青、外部なら赤\n",
        "    if x^2 + y^2 <= 1\n",
        "        push!(colors, :blue)\n",
        "    else\n",
        "        push!(colors, :red)\n",
        "    end\n",
        "end\n",
        "\n",
        "# 散布図をプロット\n",
        "scatter(x_points, y_points,\n",
        "        color=colors, markersize=2, alpha=0.6,\n",
        "        title=\"モンテカルロ法による円周率計算\",\n",
        "        xlabel=\"x\", ylabel=\"y\",\n",
        "        aspect_ratio=:equal,\n",
        "        label=\"ランダム点\")\n",
        "\n",
        "# 単位円を描画\n",
        "θ = 0:0.01:2π\n",
        "circle_x = cos.(θ)\n",
        "circle_y = sin.(θ)\n",
        "plot!(circle_x, circle_y, color=:black, linewidth=3, label=\"単位円\")\n",
        "\n",
        "# 正方形の枠を描画\n",
        "plot!([-1, 1, 1, -1, -1], [-1, -1, 1, 1, -1],\n",
        "      color=:black, linewidth=2, linestyle=:dash, label=\"正方形\")"
      ]
    },
    {
      "cell_type": "code",
      "execution_count": null,
      "id": "pi-convergence",
      "metadata": {
        "id": "pi-convergence"
      },
      "outputs": [],
      "source": [
        "# πの推定値の収束を可視化\n",
        "plot(point_counts, pi_estimates,\n",
        "     marker=:circle, markersize=6, linewidth=2, color=:green,\n",
        "     title=\"モンテカルロ法によるπの収束\",\n",
        "     xlabel=\"使用した点の数\",\n",
        "     ylabel=\"πの推定値\",\n",
        "     xscale=:log10,\n",
        "     label=\"推定値\")\n",
        "\n",
        "# 真のπの値を追加\n",
        "hline!([π], color=:red, linewidth=3, linestyle=:dash, label=\"真の値 π\")\n",
        "\n",
        "# 信頼区間を追加（参考）\n",
        "hline!([π-0.1, π+0.1], color=:gray, alpha=0.5, label=\"±0.1の範囲\")"
      ]
    },
    {
      "cell_type": "markdown",
      "id": "9d382945",
      "metadata": {
        "id": "9d382945"
      },
      "source": [
        "## 9. 夏期講習会での自由課題"
      ]
    },
    {
      "cell_type": "markdown",
      "source": [
        "\n",
        "### モンティ・ホール問題"
      ],
      "metadata": {
        "id": "QYXdmM2V06yj"
      },
      "id": "QYXdmM2V06yj"
    },
    {
      "cell_type": "code",
      "execution_count": null,
      "id": "ffe12792",
      "metadata": {
        "id": "ffe12792"
      },
      "outputs": [],
      "source": [
        "using Plots\n",
        "using Random\n",
        "\n",
        "# ランダムシードを設定\n",
        "Random.seed!(42)\n",
        "\n",
        "# 1回のモンティ・ホールゲームをシミュレーションする関数\n",
        "function monty_hall_game()\n",
        "    # 1. 当たりの扉をランダムに決める（1, 2, 3のいずれか）\n",
        "    winning_door = rand(1:3)\n",
        "\n",
        "    # 2. プレイヤーが最初に選ぶ扉をランダムに決める\n",
        "    initial_choice = rand(1:3)\n",
        "\n",
        "    # 3. ホストがハズレの扉を1つ開ける\n",
        "    # ホストは当たりの扉とプレイヤーが選んだ扉以外のハズレの扉を開ける\n",
        "    doors = [1, 2, 3]\n",
        "    available_doors = filter(d -> d != winning_door && d != initial_choice, doors)\n",
        "\n",
        "    # 利用可能な扉がない場合（プレイヤーが当たりを選んだ場合）\n",
        "    if isempty(available_doors)\n",
        "        # プレイヤーが選ばなかった扉の中からハズレを開ける\n",
        "        remaining_doors = filter(d -> d != initial_choice, doors)\n",
        "        host_opens = rand(remaining_doors)\n",
        "    else\n",
        "        host_opens = rand(available_doors)\n",
        "    end\n",
        "\n",
        "    # 4. プレイヤーが変更できる扉を決める\n",
        "    remaining_door = filter(d -> d != initial_choice && d != host_opens, doors)[1]\n",
        "\n",
        "    # 戦略1: 変更しない場合の結果\n",
        "    stay_wins = (initial_choice == winning_door)\n",
        "\n",
        "    # 戦略2: 変更する場合の結果\n",
        "    switch_wins = (remaining_door == winning_door)\n",
        "\n",
        "    return stay_wins, switch_wins\n",
        "end\n",
        "\n",
        "# シミュレーション実行\n",
        "function run_simulation(num_games)\n",
        "    stay_wins = 0\n",
        "    switch_wins = 0\n",
        "\n",
        "    stay_history = []\n",
        "    switch_history = []\n",
        "\n",
        "    for i in 1:num_games\n",
        "        stay_result, switch_result = monty_hall_game()\n",
        "\n",
        "        if stay_result\n",
        "            stay_wins += 1\n",
        "        end\n",
        "        if switch_result\n",
        "            switch_wins += 1\n",
        "        end\n",
        "\n",
        "        # 累積勝率を記録\n",
        "        push!(stay_history, stay_wins / i)\n",
        "        push!(switch_history, switch_wins / i)\n",
        "    end\n",
        "\n",
        "    return stay_wins, switch_wins, stay_history, switch_history\n",
        "end\n",
        "\n",
        "# パラメータ設定\n",
        "num_simulations = 10000\n",
        "\n",
        "println(\"モンティ・ホール問題シミュレーション開始...\")\n",
        "println(\"ゲーム数: $num_simulations\")\n",
        "\n",
        "# シミュレーション実行\n",
        "stay_total, switch_total, stay_rates, switch_rates = run_simulation(num_simulations)\n",
        "\n",
        "# 結果の計算\n",
        "stay_win_rate = stay_total / num_simulations\n",
        "switch_win_rate = switch_total / num_simulations\n",
        "\n",
        "println(\"\\n=== 結果 ===\")\n",
        "println(\"変更しない戦略:\")\n",
        "println(\"  勝利数: $stay_total / $num_simulations\")\n",
        "println(\"  勝率: $(round(stay_win_rate * 100, digits=2))%\")\n",
        "println()\n",
        "println(\"変更する戦略:\")\n",
        "println(\"  勝利数: $switch_total / $num_simulations\")\n",
        "println(\"  勝率: $(round(switch_win_rate * 100, digits=2))%\")\n",
        "println()\n",
        "println(\"理論値:\")\n",
        "println(\"  変更しない戦略: 33.33%\")\n",
        "println(\"  変更する戦略: 66.67%\")\n",
        "\n",
        "# 可視化\n",
        "# 1. 最終的な勝率の比較（棒グラフ）\n",
        "p1 = bar([\"変更しない\", \"変更する\"],\n",
        "         [stay_win_rate, switch_win_rate],\n",
        "         title=\"モンティ・ホール問題：戦略別勝率\",\n",
        "         ylabel=\"勝率\",\n",
        "         ylim=(0, 1),\n",
        "         color=[:lightblue, :lightcoral],\n",
        "         alpha=0.8,\n",
        "         legend=false)\n",
        "\n",
        "# 理論値を点線で表示\n",
        "hline!(p1, [1/3], color=:blue, linestyle=:dash, linewidth=2, label=\"理論値(変更しない)\")\n",
        "hline!(p1, [2/3], color=:red, linestyle=:dash, linewidth=2, label=\"理論値(変更する)\")\n",
        "\n",
        "# パーセンテージを棒の上に表示\n",
        "annotate!(p1, [(1, stay_win_rate + 0.05, text(\"$(round(stay_win_rate*100, digits=1))%\", 10)),\n",
        "               (2, switch_win_rate + 0.05, text(\"$(round(switch_win_rate*100, digits=1))%\", 10))])\n",
        "\n",
        "# 2. 累積勝率の推移（線グラフ）\n",
        "p2 = plot(1:num_simulations, stay_rates,\n",
        "          label=\"変更しない戦略\",\n",
        "          color=:blue,\n",
        "          linewidth=2,\n",
        "          title=\"累積勝率の推移\",\n",
        "          xlabel=\"ゲーム数\",\n",
        "          ylabel=\"勝率\")\n",
        "\n",
        "plot!(p2, 1:num_simulations, switch_rates,\n",
        "      label=\"変更する戦略\",\n",
        "      color=:red,\n",
        "      linewidth=2)\n",
        "\n",
        "# 理論値を点線で表示\n",
        "hline!(p2, [1/3], color=:blue, linestyle=:dash, alpha=0.7, label=\"理論値 1/3\")\n",
        "hline!(p2, [2/3], color=:red, linestyle=:dash, alpha=0.7, label=\"理論値 2/3\")\n",
        "\n",
        "# 3. ヒストグラム（各戦略で複数回シミュレーションした場合の勝率分布）\n",
        "function multiple_simulations(num_trials, games_per_trial)\n",
        "    stay_rates_dist = []\n",
        "    switch_rates_dist = []\n",
        "\n",
        "    for trial in 1:num_trials\n",
        "        stay_wins, switch_wins, _, _ = run_simulation(games_per_trial)\n",
        "        push!(stay_rates_dist, stay_wins / games_per_trial)\n",
        "        push!(switch_rates_dist, switch_wins / games_per_trial)\n",
        "    end\n",
        "\n",
        "    return stay_rates_dist, switch_rates_dist\n",
        "end\n",
        "\n",
        "# 複数回の小規模シミュレーション（分布確認用）\n",
        "stay_dist, switch_dist = multiple_simulations(100, 1000)\n",
        "\n",
        "p3 = histogram(stay_dist,\n",
        "               alpha=0.6,\n",
        "               bins=20,\n",
        "               label=\"変更しない戦略\",\n",
        "               color=:lightblue,\n",
        "               title=\"勝率の分布 (100回の試行, 各1000ゲーム)\",\n",
        "               xlabel=\"勝率\",\n",
        "               ylabel=\"頻度\")\n",
        "\n",
        "histogram!(p3, switch_dist,\n",
        "           alpha=0.6,\n",
        "           bins=20,\n",
        "           label=\"変更する戦略\",\n",
        "           color=:lightcoral)\n",
        "\n",
        "# 理論値を縦線で表示\n",
        "vline!(p3, [1/3], color=:blue, linestyle=:dash, linewidth=2, label=\"理論値 1/3\")\n",
        "vline!(p3, [2/3], color=:red, linestyle=:dash, linewidth=2, label=\"理論値 2/3\")\n",
        "\n",
        "# 全てのプロットを表示\n",
        "plot(p1, p2, p3, layout=(3,1), size=(800, 1000))"
      ]
    },
    {
      "cell_type": "markdown",
      "id": "41bc26e1",
      "metadata": {
        "id": "41bc26e1"
      },
      "source": [
        "### ランダムウォーク"
      ]
    },
    {
      "cell_type": "code",
      "source": [
        "using Plots\n",
        "using Random\n",
        "\n",
        "# ランダムシードを設定（再現可能性のため）\n",
        "Random.seed!(123)\n",
        "\n",
        "# パラメータ設定\n",
        "num_steps = 1000  # ステップ数\n",
        "num_simulations = 10000  # シミュレーション回数\n",
        "num_trajectories = 20  # 可視化する軌跡の数\n",
        "\n",
        "# 1回のランダムウォークを実行する関数\n",
        "function random_walk(steps)\n",
        "    position = 0\n",
        "    trajectory = [0]  # 初期位置を記録\n",
        "\n",
        "    for i in 1:steps\n",
        "        # ±1のランダムな移動\n",
        "        move = rand([-1, 1])\n",
        "        position += move\n",
        "        push!(trajectory, position)\n",
        "    end\n",
        "\n",
        "    return trajectory\n",
        "end\n",
        "\n",
        "# 複数回のシミュレーションを実行\n",
        "println(\"シミュレーション実行中...\")\n",
        "final_positions = []\n",
        "sample_trajectories = []\n",
        "\n",
        "for i in 1:num_simulations\n",
        "    trajectory = random_walk(num_steps)\n",
        "    push!(final_positions, trajectory[end])  # 最終位置を記録\n",
        "\n",
        "    # 最初の数回の軌跡を保存（可視化用）\n",
        "    if i <= num_trajectories\n",
        "        push!(sample_trajectories, trajectory)\n",
        "    end\n",
        "end\n",
        "\n",
        "println(\"シミュレーション完了\")\n",
        "\n",
        "# 1. 複数の軌跡を可視化\n",
        "p1 = plot(title=\"ランダムウォークの軌跡 (最初の$num_trajectories 回)\",\n",
        "          xlabel=\"ステップ\",\n",
        "          ylabel=\"位置\",\n",
        "          legend=false)\n",
        "\n",
        "for trajectory in sample_trajectories\n",
        "    plot!(p1, 0:num_steps, trajectory, alpha=0.6, linewidth=1)\n",
        "end\n",
        "\n",
        "# 平均軌跡を太線で追加\n",
        "mean_trajectory = zeros(num_steps + 1)\n",
        "for trajectory in sample_trajectories\n",
        "    mean_trajectory .+= trajectory\n",
        "end\n",
        "mean_trajectory ./= length(sample_trajectories)\n",
        "\n",
        "plot!(p1, 0:num_steps, mean_trajectory,\n",
        "      color=:red, linewidth=3, alpha=0.8, label=\"平均軌跡\")\n",
        "\n",
        "# 2. 1000ステップ後の位置の分布をヒストグラムで表示\n",
        "p2 = histogram(final_positions,\n",
        "               bins=50,\n",
        "               alpha=0.7,\n",
        "               title=\"1000ステップ後の位置の分布 (N=$num_simulations)\",\n",
        "               xlabel=\"最終位置\",\n",
        "               ylabel=\"頻度\",\n",
        "               label=\"シミュレーション結果\",\n",
        "               normalize=true)\n",
        "\n",
        "# 理論値（正規分布）を重ね合わせ\n",
        "# ランダムウォークの理論：N(0, √steps)\n",
        "theoretical_std = sqrt(num_steps)\n",
        "x_range = -4*theoretical_std:2:4*theoretical_std\n",
        "theoretical_density = [exp(-x^2/(2*theoretical_std^2)) / (theoretical_std * sqrt(2π))\n",
        "                      for x in x_range]\n",
        "\n",
        "plot!(p2, x_range, theoretical_density,\n",
        "      color=:red, linewidth=3, label=\"理論値 N(0, √$num_steps)\")\n",
        "\n",
        "# 3. 統計情報を表示\n",
        "mean_pos = mean(final_positions)\n",
        "std_pos = std(final_positions)\n",
        "theoretical_std_pos = sqrt(num_steps)\n",
        "\n",
        "println(\"\\n=== 統計結果 ===\")\n",
        "println(\"シミュレーション回数: $num_simulations\")\n",
        "println(\"ステップ数: $num_steps\")\n",
        "println(\"最終位置の平均: $(round(mean_pos, digits=2))\")\n",
        "println(\"最終位置の標準偏差: $(round(std_pos, digits=2))\")\n",
        "println(\"理論値の標準偏差: $(round(theoretical_std_pos, digits=2))\")\n",
        "println(\"最小位置: $(minimum(final_positions))\")\n",
        "println(\"最大位置: $(maximum(final_positions))\")\n",
        "\n",
        "# プロットを並べて表示\n",
        "plot(p1, p2, layout=(2,1), size=(800, 800))"
      ],
      "metadata": {
        "id": "WtXN2V578YaZ"
      },
      "id": "WtXN2V578YaZ",
      "execution_count": null,
      "outputs": []
    },
    {
      "cell_type": "markdown",
      "id": "5e6b9b3d",
      "metadata": {
        "id": "5e6b9b3d"
      },
      "source": [
        "### コラッツ予想"
      ]
    },
    {
      "cell_type": "code",
      "source": [
        "using Plots\n",
        "using Distributions\n",
        "\n",
        "# コラッツ数列を計算する関数\n",
        "function collatz_sequence(n)\n",
        "    sequence = [n]\n",
        "    current = n\n",
        "\n",
        "    while current != 1\n",
        "        if current % 2 == 0\n",
        "            current = current ÷ 2  # 偶数の場合：2で割る\n",
        "        else\n",
        "            current = 3 * current + 1  # 奇数の場合：3倍して1足す\n",
        "        end\n",
        "        push!(sequence, current)\n",
        "\n",
        "        # 無限ループ防止\n",
        "        if length(sequence) > 1000\n",
        "            println(\"Warning: 数列が1000ステップを超えました (n=$n)\")\n",
        "            break\n",
        "        end\n",
        "    end\n",
        "\n",
        "    return sequence\n",
        "end\n",
        "\n",
        "println(\"コラッツ予想の可視化...\")\n",
        "\n",
        "# 興味深い数の軌跡を表示\n",
        "interesting_numbers = [3, 7, 12, 19, 27]\n",
        "colors = [:blue, :red, :green, :purple, :orange]\n",
        "\n",
        "# 1. 複数の軌跡を同じグラフに表示\n",
        "p1 = plot(title=\"コラッツ数列の軌跡\",\n",
        "          xlabel=\"ステップ\",\n",
        "          ylabel=\"値\",\n",
        "          legend=:topright)\n",
        "\n",
        "for (i, n) in enumerate(interesting_numbers)\n",
        "    seq = collatz_sequence(n)\n",
        "    plot!(p1, 0:length(seq)-1, seq,\n",
        "          label=\"n=$n ($(length(seq)-1)ステップ)\",\n",
        "          color=colors[i],\n",
        "          linewidth=2,\n",
        "          marker=:circle,\n",
        "          markersize=2)\n",
        "\n",
        "    println(\"n=$n: $(length(seq)-1)ステップで1に到達, 最大値=$(maximum(seq))\")\n",
        "end\n",
        "\n",
        "# 2. 特に興味深いn=27の軌跡を詳しく表示\n",
        "seq_27 = collatz_sequence(27)\n",
        "p2 = plot(0:length(seq_27)-1, seq_27,\n",
        "          title=\"n=27の詳細軌跡\",\n",
        "          xlabel=\"ステップ\",\n",
        "          ylabel=\"値\",\n",
        "          color=:red,\n",
        "          linewidth=2,\n",
        "          marker=:circle,\n",
        "          markersize=3,\n",
        "          label=\"n=27\")\n",
        "\n",
        "# 最大値に注釈を追加\n",
        "max_idx = argmax(seq_27)\n",
        "max_val = seq_27[max_idx]\n",
        "annotate!(p2, [(max_idx-1, max_val + max_val*0.1,\n",
        "              text(\"$max_val\", 10))])\n",
        "\n",
        "# 3. 1から50までの停止時間を棒グラフで表示\n",
        "stop_times = []\n",
        "for n in 1:50\n",
        "    seq = collatz_sequence(n)\n",
        "    push!(stop_times, length(seq) - 1)\n",
        "end\n",
        "\n",
        "p3 = bar(1:50, stop_times,\n",
        "         title=\"停止時間 (n=1〜50)\",\n",
        "         xlabel=\"初期値\",\n",
        "         ylabel=\"1に到達するまでのステップ数\",\n",
        "         color=:lightblue,\n",
        "         alpha=0.7,\n",
        "         legend=false)\n",
        "\n",
        "# 特に長い停止時間を強調\n",
        "long_indices = findall(x -> x > 100, stop_times)\n",
        "if !isempty(long_indices)\n",
        "    bar!(p3, long_indices, stop_times[long_indices],\n",
        "         color=:red, alpha=0.8, label=\"100ステップ以上\")\n",
        "end\n",
        "\n",
        "println(\"\\n=== 基本統計 (n=1〜50) ===\")\n",
        "println(\"平均停止時間: $(round(mean(stop_times), digits=1)) ステップ\")\n",
        "println(\"最大停止時間: $(maximum(stop_times)) ステップ (n=$(argmax(stop_times)))\")\n",
        "println(\"最小停止時間: $(minimum(stop_times)) ステップ\")\n",
        "\n",
        "# プロットを配置\n",
        "plot(p1, p2, p3, layout=(3,1), size=(800, 900))"
      ],
      "metadata": {
        "id": "CEWZwC4y-KKl"
      },
      "id": "CEWZwC4y-KKl",
      "execution_count": null,
      "outputs": []
    },
    {
      "cell_type": "markdown",
      "source": [
        "## 10. まとめ\n",
        "\n",
        "このノートブックでは、Julia言語を使って高校数学の様々な分野を学習しました："
      ],
      "metadata": {
        "id": "MdsZukmm1C05"
      },
      "id": "MdsZukmm1C05"
    },
    {
      "cell_type": "markdown",
      "id": "summary",
      "metadata": {
        "id": "summary"
      },
      "source": [
        "\n",
        "\n",
        "### 学習した内容\n",
        "\n",
        "1. **Julia言語の概要**: Google Colabでの使い方、基本的な特徴\n",
        "2. **基本計算**: 四則演算、関数定義、数学定数\n",
        "3. **グラフ描画**: 2D・3D関数、媒介変数表示、リサージュ曲線\n",
        "4. **方程式の解法**: 記号的解法（解の公式）と数値的解法\n",
        "5. **数列と漸化式**: 再帰的定義、一般項の推定、グラフ化\n",
        "6. **最適化問題**: 線形計画法、非線形最適化\n",
        "7. **データの分析・統計・分布**: 信頼区間、分布の可視化\n",
        "8. **整数問題・場合の数・確率**: 具体的な例題とシミュレーション\n",
        "9. **夏期講習会の生徒の作品**: 生徒の自由課題\n",
        "10. **まとめ**: 総合的な振り返り\n"
      ]
    },
    {
      "cell_type": "markdown",
      "source": [],
      "metadata": {
        "id": "luPuQ0DL1O_B"
      },
      "id": "luPuQ0DL1O_B"
    },
    {
      "cell_type": "markdown",
      "source": [
        "\n",
        "### Julia言語の特徴\n",
        "- **数学的記法**: √、π、÷などの記号が直接使用可能\n",
        "- **高速な数値計算**: 科学技術計算に最適化された言語\n",
        "- **豊富なライブラリ**: グラフ描画、統計、最適化などの専門パッケージ\n",
        "- **インタラクティブ性**: ノートブック環境での試行錯誤が容易"
      ],
      "metadata": {
        "id": "Ua0X_r9l1RIy"
      },
      "id": "Ua0X_r9l1RIy"
    },
    {
      "cell_type": "markdown",
      "source": [
        "\n",
        "### 教育的効果\n",
        "- **理論と実践の融合**: 数学の概念を可視化・実験できる\n",
        "- **問題解決能力**: 複雑な計算を分解して段階的に解決\n",
        "- **データ分析スキル**: 統計的思考と計算技術の習得\n",
        "- **プログラミング思考**: 論理的・構造的な思考力の向上\n"
      ],
      "metadata": {
        "id": "DwI-_HOX1Po9"
      },
      "id": "DwI-_HOX1Po9"
    },
    {
      "cell_type": "markdown",
      "source": [
        "\n",
        "### 発展的学習への道筋\n",
        "1. **大学数学への準備**: 線形代数、微積分学、統計学\n",
        "2. **データサイエンス**: 機械学習、データ可視化\n",
        "3. **科学計算**: 物理シミュレーション、数値解析\n",
        "4. **プログラミング**: アルゴリズム設計、ソフトウェア開発\n",
        "\n",
        "Julia言語を使うことで、数学の抽象的な概念を具体的に可視化し、実験的に理解を深めることができます。\n",
        "\n",
        "理論と実践を結びつけることで、より深い数学的洞察が得られるでしょう。"
      ],
      "metadata": {
        "id": "BOxR5atJ1V5P"
      },
      "id": "BOxR5atJ1V5P"
    },
    {
      "cell_type": "markdown",
      "id": "references",
      "metadata": {
        "id": "references"
      },
      "source": [
        "## 参考資料\n"
      ]
    },
    {
      "cell_type": "markdown",
      "id": "50f070be",
      "metadata": {
        "id": "50f070be"
      },
      "source": []
    },
    {
      "cell_type": "markdown",
      "source": [
        "\n",
        "### その他のサイト（清水団）\n",
        "\n",
        "- [Julia言語と高校数学（2025 夏期講習会）](https://shimizudan.github.io/julia-summer-course/)\n",
        "- [大学入試とJulia言語（JuliaTokai #21）](https://github.com/shimizudan/20250327tokyo-u?tab=readme-ov-file)\n",
        "- [オンライン整数列大辞典(OEIS)に数列を登録してみた！](https://github.com/shimizudan/20250216sundaymath?tab=readme-ov-file)\n"
      ],
      "metadata": {
        "id": "uN-IN1Mw1guc"
      },
      "id": "uN-IN1Mw1guc"
    },
    {
      "cell_type": "markdown",
      "source": [
        "\n",
        "### 参考サイト\n",
        "\n",
        "- [Julia言語 ドキュメント（日本語翻訳版）](https://atelierarith.github.io/UnofficialJuliaDocJP/index.html) - ごまふあざらし(GomahuAzarashi)\n",
        "- [数学と物理におけるJuliaの活用](https://akio-tomiya.github.io/julia_imi_workshop2023/)\n",
        "- [数学ソフトウェアとフリードキュメント XXVIII での講演資料](https://github.com/genkuroki/msfd28/blob/master/README.md) - 黒木玄\n",
        "- [中心極限定理の視覚化の例](https://colab.research.google.com/drive/1OKlTBuxXw_gA6oyzlk5ACInH2PaebdjC?usp=sharing) - 黒木玄\n",
        "- [数値計算法基礎 (2023)](http://www.cas.cmc.osaka-u.ac.jp/~paoon/Lectures/2023-8Semester-NA-basic/01-guide-of-julia/) - 降籏大介\n",
        "- [Juliaで学ぶ最適化と機械学習（2024）](https://matsui528.github.io/julia_opt_ml_2024/) - 松井勇佑\n"
      ],
      "metadata": {
        "id": "14n2EqIs1kGm"
      },
      "id": "14n2EqIs1kGm"
    },
    {
      "cell_type": "markdown",
      "source": [
        "\n",
        "### 書籍\n",
        "\n",
        "- [実践Julia入門](https://www.amazon.co.jp/実践Julia入門-後藤-俊介/dp/4297133504) - 後藤俊介\n",
        "- [Juliaではじめる数値計算入門](https://www.amazon.co.jp/Julia%E3%81%A7%E3%81%AF%E3%81%98%E3%82%81%E3%82%8B%E6%95%B0%E5%80%A4%E8%A8%88%E7%AE%97%E5%85%A5%E9%96%80-%E6%B0%B8%E4%BA%95-%E4%BD%91%E7%B4%80/dp/4297141280) - 永井佑紀\n",
        "- [スタンフォード ベクトル・行列からはじめる最適化数学](https://www.amazon.co.jp/スタンフォード-ベクトル・行列からはじめる最適化数学-ＫＳ情報科学専門書-ステファン・ボイド-ebook/dp/B0967Y28B6) - スティーブン・ボイド他\n"
      ],
      "metadata": {
        "id": "b9t7sCHc1n06"
      },
      "id": "b9t7sCHc1n06"
    },
    {
      "cell_type": "markdown",
      "source": [
        "\n",
        "### 学習のヒント\n",
        "\n",
        "1. **環境構築**: Google ColabやJupyter Notebookを使用すると簡単に始められます\n",
        "2. **パッケージ管理**: 必要なパッケージは `Pkg.add()` で簡単にインストール可能\n",
        "3. **エラーへの対処**: エラーメッセージを読んで、一つずつ問題を解決していきましょう\n",
        "4. **実験的学習**: 数値を変更して結果の変化を観察することで理解が深まります\n",
        "5. **可視化の活用**: グラフで結果を確認することで直感的理解が得られます\n"
      ],
      "metadata": {
        "id": "feETJipp1qLZ"
      },
      "id": "feETJipp1qLZ"
    },
    {
      "cell_type": "markdown",
      "source": [
        "\n",
        "### コミュニティ\n",
        "\n",
        "- [Julia言語 公式フォーラム](https://discourse.julialang.org/)\n",
        "- [Julia Tokyo（日本のコミュニティ）](https://juliatokyo.connpass.com/)\n",
        "- [GitHub Julia Organization](https://github.com/JuliaLang)\n",
        "\n",
        "このノートブックを参考に、ぜひJulia言語を使った数学的探究を楽しんでください！"
      ],
      "metadata": {
        "id": "-P7oNrnK1sAl"
      },
      "id": "-P7oNrnK1sAl"
    }
  ],
  "metadata": {
    "kernelspec": {
      "display_name": "Julia",
      "name": "julia"
    },
    "language_info": {
      "name": "julia"
    },
    "colab": {
      "provenance": [],
      "toc_visible": true
    }
  },
  "nbformat": 4,
  "nbformat_minor": 5
}